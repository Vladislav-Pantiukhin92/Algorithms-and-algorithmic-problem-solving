{
 "cells": [
  {
   "cell_type": "markdown",
   "id": "b9e9d50a",
   "metadata": {},
   "source": [
    "### Longest Common Subsequence\n",
    "### Anagram difference - 6 kyu, Codewars"
   ]
  },
  {
   "cell_type": "code",
   "execution_count": 1,
   "id": "5e6d6667",
   "metadata": {},
   "outputs": [
    {
     "data": {
      "text/plain": [
       "10"
      ]
     },
     "execution_count": 1,
     "metadata": {},
     "output_type": "execute_result"
    }
   ],
   "source": [
    "\"\"\"\n",
    "Given two words, how many letters do you have to remove from them to make them anagrams?\n",
    "Example\n",
    "First word : c od e w ar s (4 letters removed)\n",
    "Second word : ha c k er r a nk (6 letters removed)\n",
    "Result : 10\n",
    "Hints\n",
    "A word is an anagram of another word if they have the same letters (usually in a different order).\n",
    "Do not worry about case. All inputs will be lowercase.\n",
    "\"\"\"\n",
    "\n",
    "# To solve the problem we are going to utilize the algorithm for finding the 'Longest Common Subsequence'\n",
    "# The term 'common subsequence' means that two strings have some common characters in the same order, but at the\n",
    "# same time it is not mandatory for these characters to be adjacent to each other within these two strings.\n",
    "\n",
    "# Through the algorithm the common letters will be found. After that these letters should be subtracted from the \n",
    "# length of the first string and the second string. The solution is the summation of these two subtraction results\n",
    "import numpy as np # Let's import 'numpy' to create the essential matrix/2-D array for finding the Longest Common \n",
    "# Subsequence\n",
    "\n",
    "def anagram_difference(w1, w2):\n",
    "# Characters within the common subsequence should be located in the same order. So we sort two strings:\n",
    "    w1 = \"\".join(sorted(w1))\n",
    "    w2 = \"\".join(sorted(w2))\n",
    "# Creation of the matrix, which will be initially filled with zeros:\n",
    "    matrix = np.zeros((len(w1) + 1, len(w2) + 1))\n",
    "# The next step is to replace zeros with the specific values:\n",
    "    for i in range(1, len(w1) + 1):\n",
    "        for j in range(1, len(w2) + 1):\n",
    "            if w1[i - 1] == w2[j - 1]: # If characters of two strings are equal, the value of the current \n",
    "                # matrix cell is 1 + the value in the matrix cell [previous row][previous column]\n",
    "                matrix[i][j] = matrix[i - 1][j - 1] + 1\n",
    "            else: # If characters of two strings are not equal - we find the maxValue from the following previous \n",
    "            # matrix cells:\n",
    "                matrix[i][j] = max(matrix[i][j - 1], matrix[i - 1][j])\n",
    "    commonSub = int(matrix[-1][-1]) # The Longest Common Subsequence is the number in the last row and the last \n",
    "    # column of the matrix\n",
    "    # The next operation is to find the uncommon characters (which are unique only for one of two strings):\n",
    "    diff1 = len(w1) - commonSub # Unique letters of the first string\n",
    "    diff2 = len(w2) - commonSub # Unique letters of the second string\n",
    "    return diff1 + diff2 # Our final result is the summation of these unique characters\n",
    "\n",
    "anagram_difference(\"codewars\", \"hackerrank\")"
   ]
  }
 ],
 "metadata": {
  "kernelspec": {
   "display_name": "Python 3 (ipykernel)",
   "language": "python",
   "name": "python3"
  },
  "language_info": {
   "codemirror_mode": {
    "name": "ipython",
    "version": 3
   },
   "file_extension": ".py",
   "mimetype": "text/x-python",
   "name": "python",
   "nbconvert_exporter": "python",
   "pygments_lexer": "ipython3",
   "version": "3.9.7"
  }
 },
 "nbformat": 4,
 "nbformat_minor": 5
}
