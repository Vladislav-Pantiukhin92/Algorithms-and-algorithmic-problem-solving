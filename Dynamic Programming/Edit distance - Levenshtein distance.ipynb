{
 "cells": [
  {
   "cell_type": "markdown",
   "id": "dfd795cd",
   "metadata": {},
   "source": [
    "### Edit distance - Levenshtein distance\n",
    "### Levenshtein Distance - 6 kyu, Codewars"
   ]
  },
  {
   "cell_type": "code",
   "execution_count": 4,
   "id": "eb128934",
   "metadata": {},
   "outputs": [
    {
     "data": {
      "text/plain": [
       "3"
      ]
     },
     "execution_count": 4,
     "metadata": {},
     "output_type": "execute_result"
    }
   ],
   "source": [
    "\"\"\"\n",
    "In information theory and computer science, the Levenshtein distance is a string metric for measuring \n",
    "the difference between two sequences. Informally, the Levenshtein distance between two words is the \n",
    "minimum number of single-character edits (i.e. insertions, deletions or substitutions) required to \n",
    "change one word into the other.\n",
    "(http://en.wikipedia.org/wiki/Levenshtein_distance)\n",
    "Your task is to implement a function which calculates the Levenshtein distance for two arbitrary strings.\n",
    "\"\"\"\n",
    "\n",
    "# Levenshtein distance is the distance (edit distance) between two strings. In other words, it is the level/\n",
    "# degree of dissimilarity between two strings (the number of necessary operations - insertion, deletion, \n",
    "# substitution to make two strings equal)\n",
    "\n",
    "import numpy as np # Through 'numpy' let's create the matrix/2-D array\n",
    "\n",
    "def levenshtein(a, b):\n",
    "    # The matrix is initially filled with zeros, default values:\n",
    "    matrix = np.zeros((len(a) + 1, len(b) + 1))\n",
    "    for i in range(1, len(a) + 1):\n",
    "        matrix[i][0] = i # Row enumeration\n",
    "    for j in range(1, len(b) + 1):\n",
    "        matrix[0][j] = j # Column enumeration\n",
    "    # Let's replace 0 with the relevant values:\n",
    "    for i in range(1, len(a) + 1):\n",
    "        for j in range(1, len(b) + 1):\n",
    "            if a[i - 1] == b[j - 1]: # If characters of two strings are equal, we dont'change the value in the \n",
    "                # matrix cell (value from the previous corresponding matrix cell is taken)\n",
    "                matrix[i][j] = matrix[i - 1][j - 1]\n",
    "            else:\n",
    "            # If characters are not equal - we take the minValue within the matrix segment 2 x 2 and increase it \n",
    "            # by 1\n",
    "                matrix[i][j] = min(matrix[i - 1][j - 1], matrix[i - 1][j], matrix[i][j - 1]) + 1\n",
    "    return int(matrix[len(a)][len(b)]) # The final return value is located within the intersection of the last row\n",
    "# and the last column\n",
    "\n",
    "levenshtein(\"Moscow\", \"Moskva\")"
   ]
  }
 ],
 "metadata": {
  "kernelspec": {
   "display_name": "Python 3 (ipykernel)",
   "language": "python",
   "name": "python3"
  },
  "language_info": {
   "codemirror_mode": {
    "name": "ipython",
    "version": 3
   },
   "file_extension": ".py",
   "mimetype": "text/x-python",
   "name": "python",
   "nbconvert_exporter": "python",
   "pygments_lexer": "ipython3",
   "version": "3.9.7"
  }
 },
 "nbformat": 4,
 "nbformat_minor": 5
}
