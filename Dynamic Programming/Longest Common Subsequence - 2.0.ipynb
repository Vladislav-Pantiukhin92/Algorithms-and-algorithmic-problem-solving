{
 "cells": [
  {
   "cell_type": "markdown",
   "id": "ff8f517c",
   "metadata": {},
   "source": [
    "### Longest Common Subsequence\n",
    "### Longest Common Subsequence - 5 kyu, Codewars"
   ]
  },
  {
   "cell_type": "code",
   "execution_count": 2,
   "id": "a2ed7a93",
   "metadata": {},
   "outputs": [
    {
     "data": {
      "text/plain": [
       "'abc'"
      ]
     },
     "execution_count": 2,
     "metadata": {},
     "output_type": "execute_result"
    }
   ],
   "source": [
    "\"\"\"\n",
    "Write a function called LCS that accepts two sequences and returns the longest subsequence common to the \n",
    "passed in sequences.\n",
    "Subsequence\n",
    "A subsequence is different from a substring. The terms of a subsequence need not be consecutive terms \n",
    "of the original sequence.\n",
    "Example subsequence\n",
    "Subsequences of \"abc\" = \"a\", \"b\", \"c\", \"ab\", \"ac\", \"bc\" and \"abc\".\n",
    "\n",
    "LCS examples\n",
    "lcs( \"abcdef\" , \"abc\" ) => returns \"abc\"\n",
    "lcs( \"abcdef\" , \"acf\" ) => returns \"acf\"\n",
    "lcs( \"132535365\" , \"123456789\" ) => returns \"12356\"\n",
    "\"\"\"\n",
    "\n",
    "# Implementation of the algorithm, aimed at finding the Longest Common Subsequence\n",
    "# In this example we have to return the specific longest common subsequence (not the length of the longest \n",
    "# common subsequence)\n",
    "# Execution of the algorithm is almost the same, except for some amendments in terms of preserving the longest \n",
    "# common string subsequence (not the length):\n",
    "\n",
    "def lcs(string1, string2):\n",
    "# Let's create the matrix with the corresponding proportions m x n (length of the first string + 1, length of \n",
    "# the second string + 1). Initially the matrix is filled with empty strings \"\". It is important because \n",
    "# the matrix will store string chunks, not the numeric elements (the length of the subsequence):\n",
    "    matrix = [[\"\" for _ in range(len(string2) + 1)] for _ in range(len(string1) + 1)]\n",
    "# Let's start filling the matrix with string chunks. Eventually, we have to return the longest common string chunk - \n",
    "# subsequence:\n",
    "    for i in range(1, len(string1) + 1):\n",
    "        for j in range(1, len(string2) + 1):\n",
    "            if string1[i - 1] == string2[j - 1]: # If characters are the same - we store the value within the \n",
    "                # matrix cell by appending it to the existing string chunk within this matrix cell (in other \n",
    "                # words, it is the concatenation of two strings):\n",
    "                matrix[i][j] = matrix[i - 1][j - 1] + string1[i - 1]\n",
    "            else:\n",
    "                # If characters are not the same - we store the currently longest string chunk within the matrix \n",
    "                # cell without appending anything at all\n",
    "                matrix[i][j] = max(matrix[i - 1][j], matrix[i][j - 1], key=len)\n",
    "    return matrix[-1][-1] # The string chunk in the last row and the last column is returned\n",
    "\n",
    "lcs(\"abcdef\" , \"abc\")"
   ]
  }
 ],
 "metadata": {
  "kernelspec": {
   "display_name": "Python 3 (ipykernel)",
   "language": "python",
   "name": "python3"
  },
  "language_info": {
   "codemirror_mode": {
    "name": "ipython",
    "version": 3
   },
   "file_extension": ".py",
   "mimetype": "text/x-python",
   "name": "python",
   "nbconvert_exporter": "python",
   "pygments_lexer": "ipython3",
   "version": "3.9.7"
  }
 },
 "nbformat": 4,
 "nbformat_minor": 5
}
