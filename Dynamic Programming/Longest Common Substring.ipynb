{
 "cells": [
  {
   "cell_type": "markdown",
   "id": "9a47e230",
   "metadata": {},
   "source": [
    "### Longest Common Substring\n",
    "### Common Substrings - 7 kyu, Codewars"
   ]
  },
  {
   "cell_type": "code",
   "execution_count": 3,
   "id": "affc144b",
   "metadata": {},
   "outputs": [
    {
     "data": {
      "text/plain": [
       "True"
      ]
     },
     "execution_count": 3,
     "metadata": {},
     "output_type": "execute_result"
    }
   ],
   "source": [
    "\"\"\"\n",
    "Given 2 strings, your job is to find out if there is a substring that appears in both strings. \n",
    "You will return true if you find a substring that appears in both strings, or false if you do not. \n",
    "We only care about substrings that are longer than one letter long.\n",
    "#Examples:\n",
    "\n",
    "*Example 1*\n",
    "SubstringTest(\"Something\",\"Fun\"); //Returns false\n",
    "\n",
    "*Example 2*\n",
    "SubstringTest(\"Something\",\"Home\"); //Returns true\n",
    "In the above example, example 2 returns true because both of the inputs contain the substring \"me\". \n",
    "(soMEthing and hoME)\n",
    "In example 1, the method will return false because something and fun contain no common substrings. \n",
    "(We do not count the 'n' as a substring in this Kata because it is only 1 character long)\n",
    "\n",
    "#Rules: Lowercase and uppercase letters are the same. So 'A' == 'a'.\n",
    "We only count substrings that are > 1 in length.\n",
    "\n",
    "#Input: Two strings with both lower and upper cases. #Output: A boolean value determining if there is a \n",
    "common substring between the two inputs.\n",
    "\"\"\"\n",
    "\n",
    "# Substring is a chunk of characters/combination of characters, which are adjacent to each other (it is the \n",
    "# major difference from the term 'subsequence'):\n",
    "\n",
    "def substring_test(s1, s2):\n",
    "# The given input strings may have different letter case, so it is necessary to make the letter case equal\n",
    "# The lowercase conversion of letters:\n",
    "    s1 = s1.lower() # To make all letters of the first input string lowercase\n",
    "    s2 = s2.lower() # To make all letters of the second input string lowercase\n",
    "# Let's create the matrix/2-D array with proportions m x n (length of the first string + 1, length of the second\n",
    "# string + 1):\n",
    "    matrix = [[0 for _ in range(len(s2) + 1)] for _ in range(len(s1) + 1)]\n",
    "    longest = 0 # The maxLength of consecutive letters will be preserved\n",
    "    # Nested 'for loop':\n",
    "    for i in range(1, len(s1) + 1):\n",
    "        for j in range(1, len(s2) + 1):\n",
    "            if s1[i - 1] == s2[j - 1]: # If letters are the same we increase the current length by 1\n",
    "                matrix[i][j] = matrix[i - 1][j - 1] + 1\n",
    "                longest = max(longest, matrix[i][j]) # If necessary, the maxLength is updated\n",
    "            else:\n",
    "                matrix[i][j] = 0 # If letters are not the same, in view of the fact that letters should be adjacent \n",
    "                # to each other, we have to start from scratch and accumulate the new Length again\n",
    "    if longest > 1: # True, if the maxLength > 1\n",
    "        return True\n",
    "    return False # Otherwise, we return False\n",
    "\n",
    "substring_test(\"Something\",\"Home\")"
   ]
  }
 ],
 "metadata": {
  "kernelspec": {
   "display_name": "Python 3 (ipykernel)",
   "language": "python",
   "name": "python3"
  },
  "language_info": {
   "codemirror_mode": {
    "name": "ipython",
    "version": 3
   },
   "file_extension": ".py",
   "mimetype": "text/x-python",
   "name": "python",
   "nbconvert_exporter": "python",
   "pygments_lexer": "ipython3",
   "version": "3.9.7"
  }
 },
 "nbformat": 4,
 "nbformat_minor": 5
}
