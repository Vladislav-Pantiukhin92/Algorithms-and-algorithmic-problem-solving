{
 "cells": [
  {
   "cell_type": "markdown",
   "id": "c30deef9",
   "metadata": {},
   "source": [
    "### Binary Search (Iterative option)\n",
    "### 704. Binary Search - LeetCode"
   ]
  },
  {
   "cell_type": "code",
   "execution_count": 31,
   "id": "6808b1da",
   "metadata": {},
   "outputs": [
    {
     "data": {
      "text/plain": [
       "4"
      ]
     },
     "execution_count": 31,
     "metadata": {},
     "output_type": "execute_result"
    }
   ],
   "source": [
    "\"\"\"\n",
    "Given an array of integers nums which is sorted in ascending order, and an integer target, write a \n",
    "function to search target in nums. If target exists, then return its index. Otherwise, return -1.\n",
    "You must write an algorithm with O(log n) runtime complexity.\n",
    "Example 1:\n",
    "\n",
    "Input: nums = [-1,0,3,5,9,12], target = 9\n",
    "Output: 4\n",
    "Explanation: 9 exists in nums and its index is 4\n",
    "Example 2:\n",
    "\n",
    "Input: nums = [-1,0,3,5,9,12], target = 2\n",
    "Output: -1\n",
    "Explanation: 2 does not exist in nums so return -1\n",
    "\"\"\"\n",
    "# Let's implement the solution through the Binary Search algorithm (iterative option)\n",
    "\n",
    "class Solution:\n",
    "    def search(self, nums: List[int], target: int) -> int:\n",
    "        def binary_search_iterative(array, target): # The function with the Binary Search algorithm \n",
    "        # Each time we will divide the input list into two sublists. If the middle element under such a division \n",
    "        # is a target element - we return it, otherwise, - depending upon the value of the target element (larger \n",
    "        # or smaller than the middle element), we will loop over either the left side or the right side of the\n",
    "        # input array, at the same time eliminating the entire half of the input array. \n",
    "        # These operations will be underway while the target element is found or not found (we will be certain that \n",
    "        # the target element truly doesn't exist within the array)\n",
    "            low = 0\n",
    "            high = len(array) - 1\n",
    "            mid = (low + high) // 2\n",
    "            while high >= low and array[mid] != target:\n",
    "                if target > array[mid]:\n",
    "                    low = mid + 1\n",
    "                else:\n",
    "                    high = mid - 1\n",
    "                mid = (low + high) // 2\n",
    "            if low > high:\n",
    "                return -1\n",
    "            else:\n",
    "                return mid\n",
    "        result = binary_search_iterative(nums, target)\n",
    "        return result # The final result is returned (the real value or '-1')\n",
    "    \n",
    "a = Solution()\n",
    "a.search([-1,0,3,5,9,12], 9)"
   ]
  }
 ],
 "metadata": {
  "kernelspec": {
   "display_name": "Python 3 (ipykernel)",
   "language": "python",
   "name": "python3"
  },
  "language_info": {
   "codemirror_mode": {
    "name": "ipython",
    "version": 3
   },
   "file_extension": ".py",
   "mimetype": "text/x-python",
   "name": "python",
   "nbconvert_exporter": "python",
   "pygments_lexer": "ipython3",
   "version": "3.9.7"
  }
 },
 "nbformat": 4,
 "nbformat_minor": 5
}
