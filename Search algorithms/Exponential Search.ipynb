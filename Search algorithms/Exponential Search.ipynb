{
 "cells": [
  {
   "cell_type": "markdown",
   "id": "462eb685",
   "metadata": {},
   "source": [
    "### Exponential Search\n",
    "### Find the Missing Number - 7 kyu, Codewars"
   ]
  },
  {
   "cell_type": "code",
   "execution_count": 36,
   "id": "d3b14874",
   "metadata": {},
   "outputs": [],
   "source": [
    "\"\"\"\n",
    "The following was a question that I received during a technical interview for an entry level software \n",
    "developer position. I thought I'd post it here so that everyone could give it a go:\n",
    "You are given an unsorted array containing all the integers from 0 to 100 inclusively. However, one \n",
    "number is missing. Write a function to find and return this number. What are the time and space \n",
    "complexities of your solution?\n",
    "\"\"\"\n",
    "\n",
    "# To solve this problem it is possible to apply the standard search algorithm - for example, in this case, \n",
    "# we can utilize the Exponential Search algorithm, which includes the Binary Search algorithm as well\n",
    "# But in view of the fact that the search algorithm can be applied only to the sorted arrays - first of all, \n",
    "# let's sort the input array.\n",
    "\n",
    "# The idea behind the solution - as there are just 100 numbers, it is possible to use the Exponential Search \n",
    "# algorithm to verify the existence of each number. If number exists - the Exponential Search algorithm returns \n",
    "# \"Yes\", otherwise the algorithm returns \"No\" - in this case we return the missing number\n",
    "\n",
    "# The Exponential Search algorithm envisages the search of the relevant segment/slice, where the number can be \n",
    "# located. Each time the slice grows exponentially - size == (1, 2, 4, 8, 16, 32, 64, etc.), while the segment, \n",
    "# where the number can be located, is not found\n",
    "# After that the Binary Search algorithm will be used within the identified segment\n",
    "\n",
    "def missing_no(nums):\n",
    "    nums = sorted(nums) # Let's sort the array in ascending order\n",
    "    def exponential_search(array, target): # The function with the Exponential Search algorithm \n",
    "        if array[0] == target:\n",
    "            return \"Yes!\"\n",
    "        index = 1\n",
    "        while index < len(array) and array[index] < target:\n",
    "            index *= 2 \n",
    "        return binary_search_recursive(array, target, index // 2, min(index, len(array) - 1))\n",
    "    # The final operation is to utilize the Binary Search algorithm with regard to the selected segment \n",
    "    def binary_search_recursive(array, target, low, high): # The function with the Binary Search algorithm \n",
    "        if low > high:\n",
    "            return \"No!\"\n",
    "        mid = (low + high) // 2\n",
    "        if array[mid] == target:\n",
    "            return \"Yes!\"\n",
    "        else:\n",
    "            if target > array[mid]:\n",
    "            # We are going to use the recursion to adjust the 'low' and 'high' parameters\n",
    "                return binary_search_recursive(array, target, mid + 1, high)\n",
    "            else:\n",
    "                return binary_search_recursive(array, target, low, mid - 1)\n",
    "            \n",
    "    for i in range(0, 101): # We are going to count numbers - the Exponential Search algorithm won't be able \n",
    "        # to find the missing number - the algorithm will return \"No\" instead of \"Yes\". This way we will find \n",
    "        # the missing number\n",
    "        number = i\n",
    "        result = exponential_search(nums, number)\n",
    "        if result == \"No!\":\n",
    "            return number # Finally, the missing number is returned\n",
    "        "
   ]
  }
 ],
 "metadata": {
  "kernelspec": {
   "display_name": "Python 3 (ipykernel)",
   "language": "python",
   "name": "python3"
  },
  "language_info": {
   "codemirror_mode": {
    "name": "ipython",
    "version": 3
   },
   "file_extension": ".py",
   "mimetype": "text/x-python",
   "name": "python",
   "nbconvert_exporter": "python",
   "pygments_lexer": "ipython3",
   "version": "3.9.7"
  }
 },
 "nbformat": 4,
 "nbformat_minor": 5
}
