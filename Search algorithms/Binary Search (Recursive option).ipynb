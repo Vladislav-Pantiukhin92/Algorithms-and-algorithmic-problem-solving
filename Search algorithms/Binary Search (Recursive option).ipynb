{
 "cells": [
  {
   "cell_type": "markdown",
   "id": "9812b0d6",
   "metadata": {},
   "source": [
    "### Binary Search (Recursive option)\n",
    "### 35. Search Insert Position - LeetCode"
   ]
  },
  {
   "cell_type": "code",
   "execution_count": 32,
   "id": "b0c0c0c3",
   "metadata": {},
   "outputs": [
    {
     "data": {
      "text/plain": [
       "4"
      ]
     },
     "execution_count": 32,
     "metadata": {},
     "output_type": "execute_result"
    }
   ],
   "source": [
    "\"\"\"\n",
    "Given a sorted array of distinct integers and a target value, return the index if the target is found. \n",
    "If not, return the index where it would be if it were inserted in order.\n",
    "You must write an algorithm with O(log n) runtime complexity.\n",
    "Example 1:\n",
    "\n",
    "Input: nums = [1,3,5,6], target = 5\n",
    "Output: 2\n",
    "Example 2:\n",
    "\n",
    "Input: nums = [1,3,5,6], target = 2\n",
    "Output: 1\n",
    "Example 3:\n",
    "\n",
    "Input: nums = [1,3,5,6], target = 7\n",
    "Output: 4\n",
    "\"\"\"\n",
    "# To solve this problem it is feasible to implement the Binary Search algorithm (its recursive option)\n",
    "\n",
    "class Solution:\n",
    "    def searchInsert(self, nums: List[int], target: int) -> int:\n",
    "# The function with the Binary Search algorithm \n",
    "# Each time we will divide the input list into two sublists. If the middle element under such a division \n",
    "# is a target element - we return it, otherwise, - depending upon the value of the target element (larger \n",
    "# or smaller than the middle element), we will loop over either the left side or the right side of the\n",
    "# input array, at the same time eliminating the entire half of the input array. \n",
    "# These operations will be underway while the target element is found or not found (we will be certain that \n",
    "# the target element truly doesn't exist within the array)\n",
    "        def binary_search_recursive(array, target, low, high): # The function with the Binary Search algorithm\n",
    "            if low > high: # If the target value is not found, the new 'low' value should return the index of the \n",
    "                # potential element\n",
    "                return low\n",
    "            else:\n",
    "                mid = (low + high) // 2\n",
    "                if array[mid] == target:\n",
    "                    return mid\n",
    "                else:\n",
    "                # Here we are going to use the recursive change of 'low'/'high' parameters\n",
    "                    if target > array[mid]:\n",
    "                        return binary_search_recursive(array, target, mid + 1, high)\n",
    "                    else:\n",
    "                        return binary_search_recursive(array, target, low, mid - 1)\n",
    "        result = binary_search_recursive(nums, target, 0, len(nums) - 1)\n",
    "        return result # The final result is returned\n",
    "    \n",
    "a = Solution()\n",
    "a.searchInsert([1,3,5,6], 7)"
   ]
  }
 ],
 "metadata": {
  "kernelspec": {
   "display_name": "Python 3 (ipykernel)",
   "language": "python",
   "name": "python3"
  },
  "language_info": {
   "codemirror_mode": {
    "name": "ipython",
    "version": 3
   },
   "file_extension": ".py",
   "mimetype": "text/x-python",
   "name": "python",
   "nbconvert_exporter": "python",
   "pygments_lexer": "ipython3",
   "version": "3.9.7"
  }
 },
 "nbformat": 4,
 "nbformat_minor": 5
}
