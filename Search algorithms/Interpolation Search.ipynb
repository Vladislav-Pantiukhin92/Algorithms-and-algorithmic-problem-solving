{
 "cells": [
  {
   "cell_type": "markdown",
   "id": "ea9f2408",
   "metadata": {},
   "source": [
    "### Interpolation Search\n",
    "### Find the missing term in an Arithmetic Progression - 6 kyu, Codewars"
   ]
  },
  {
   "cell_type": "code",
   "execution_count": 41,
   "id": "5efda187",
   "metadata": {},
   "outputs": [
    {
     "data": {
      "text/plain": [
       "7"
      ]
     },
     "execution_count": 41,
     "metadata": {},
     "output_type": "execute_result"
    }
   ],
   "source": [
    "\"\"\"\n",
    "An Arithmetic Progression is defined as one in which there is a constant difference between the \n",
    "consecutive terms of a given series of numbers. You are provided with consecutive elements of an \n",
    "Arithmetic Progression. There is however one hitch: exactly one term from the original series is missing \n",
    "from the set of numbers which have been given to you. The rest of the given series is the same as the \n",
    "original AP. Find the missing term.\n",
    "You have to write a function that receives a list, list size will always be at least 3 numbers. \n",
    "The missing term will never be the first or last one.\n",
    "Example\n",
    "find_missing([1, 3, 5, 9, 11]) == 7\n",
    "PS: This is a sample question of the facebook engineer challenge on interviewstreet. I found it quite \n",
    "fun to solve on paper using math, derive the algo that way. Have fun!\n",
    "\"\"\"\n",
    "\n",
    "# To find the missing number it is possible to utilize the search algorithm.\n",
    "# First of all, we need to sort the array (because the search algorithms are used only for sorted arrays)\n",
    "# On top of that, it is important to figure out the step (the gap between two consecutive numbers)\n",
    "# While we increase the number by the calculated step, we verify the existence of the new numeric element\n",
    "# within the input array through the search algorithm. If the number exists - we continue looping, if the number \n",
    "# doesn't exist - we return exactly this number as a missing one\n",
    "\n",
    "# We can use the Interpolation Search algorithm to find the missing numeric element.\n",
    "# The Interpolation Search algorithm uses the specific interpolation function to calculate the presumptive \n",
    "# location of the element ('mid' value). If the location is wrong, we choose the segment > or < location, \n",
    "# where the number can be placed, and we do the interpolation calculation again\n",
    "\n",
    "def find_missing(sequence):\n",
    "    length = len(sequence) # The length of the input array\n",
    "    sequence = sorted(sequence) # The input array is sorted\n",
    "    step = (sequence[-1] - sequence[0]) // length # Calculation of the step/gap between two consecutive numbers\n",
    "    def interpolation_search(array, target, low, high): # The function with the Interpolation Search algorithm \n",
    "        if low >= high: # The condition, when the sought-after number doesn't exist within the array\n",
    "            return \"No!\"\n",
    "        # The interpolation function is represented as:\n",
    "        mid = low + (high - low) * (target - array[low]) // (array[high] - array[low])\n",
    "        if mid > high or mid < low: # The condition, when the sought-after number doesn't exist within the array\n",
    "            return \"No!\"\n",
    "        if array[mid] == target: # If the number exists within the array - the algorithm returns \"Yes\", so we \n",
    "            # continue looping\n",
    "            return \"Yes!\"\n",
    "        else:\n",
    "            if target > array[mid]:\n",
    "                # The recursive approach for adjusting the 'low' and 'high' parameters\n",
    "                return interpolation_search(array, target, mid + 1, high)\n",
    "            else:\n",
    "                return interpolation_search(array, target, low, mid - 1)\n",
    "    i = sequence[0] + step \n",
    "    while True:\n",
    "        result = interpolation_search(sequence, i, 0, len(sequence) - 1)\n",
    "        if result == \"No!\": # If the Interpolation Search algorithm returned \"No\", then we pick up this number\n",
    "            # as a final result\n",
    "            return i\n",
    "        i += step\n",
    "        \n",
    "find_missing([1, 3, 5, 9, 11])"
   ]
  }
 ],
 "metadata": {
  "kernelspec": {
   "display_name": "Python 3 (ipykernel)",
   "language": "python",
   "name": "python3"
  },
  "language_info": {
   "codemirror_mode": {
    "name": "ipython",
    "version": 3
   },
   "file_extension": ".py",
   "mimetype": "text/x-python",
   "name": "python",
   "nbconvert_exporter": "python",
   "pygments_lexer": "ipython3",
   "version": "3.9.7"
  }
 },
 "nbformat": 4,
 "nbformat_minor": 5
}
