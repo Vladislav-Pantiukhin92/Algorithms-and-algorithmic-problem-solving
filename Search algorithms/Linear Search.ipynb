{
 "cells": [
  {
   "cell_type": "markdown",
   "id": "474d8fbb",
   "metadata": {},
   "source": [
    "### Linear Search \n",
    "### A Needle in the Haystack - 7 kyu, Codewars"
   ]
  },
  {
   "cell_type": "code",
   "execution_count": 38,
   "id": "1f006ae2",
   "metadata": {},
   "outputs": [
    {
     "data": {
      "text/plain": [
       "'found the needle at position 5'"
      ]
     },
     "execution_count": 38,
     "metadata": {},
     "output_type": "execute_result"
    }
   ],
   "source": [
    "\"\"\"\n",
    "Write a function findNeedle() that takes an array full of junk but containing one \"needle\"\n",
    "After your function finds the needle it should return a message (as a string) that says:\n",
    "\"found the needle at position \" plus the index it found the needle, so:\n",
    "Example(Input --> Output)\n",
    "[\"hay\", \"junk\", \"hay\", \"hay\", \"moreJunk\", \"needle\", \"randomJunk\"] --> \"found the needle at position 5\"\n",
    "\"\"\"\n",
    "\n",
    "# To find the 'needle' it is possible to use the slowest and easiest search algorithm - the Linear Search algorithm \n",
    "# The major objective is to implement the linear (element-by-element) check of each position without 'jumps', \n",
    "# steps or arrays' division - just the search straight from the start till the end of the array.\n",
    "# When the number is found - the search loop is broken and the result is returned\n",
    "\n",
    "def find_needle(haystack):\n",
    "    def linear_search(array): # The function of the Linear Search algorithm\n",
    "        for i in range(len(array)):\n",
    "            if array[i] == \"needle\": # We check each position of the array\n",
    "                return f\"found the needle at position {i}\"\n",
    "        return -1 # If the relevant position is not found - we return -1\n",
    "    result = linear_search(haystack)\n",
    "    return result # When the relevant position is found - the result is returned\n",
    "find_needle([\"hay\", \"junk\", \"hay\", \"hay\", \"moreJunk\", \"needle\", \"randomJunk\"])"
   ]
  }
 ],
 "metadata": {
  "kernelspec": {
   "display_name": "Python 3 (ipykernel)",
   "language": "python",
   "name": "python3"
  },
  "language_info": {
   "codemirror_mode": {
    "name": "ipython",
    "version": 3
   },
   "file_extension": ".py",
   "mimetype": "text/x-python",
   "name": "python",
   "nbconvert_exporter": "python",
   "pygments_lexer": "ipython3",
   "version": "3.9.7"
  }
 },
 "nbformat": 4,
 "nbformat_minor": 5
}
