{
 "cells": [
  {
   "cell_type": "markdown",
   "id": "8056203f",
   "metadata": {},
   "source": [
    "### Jump Search\n",
    "### 153. Find Minimum in Rotated Sorted Array - LeetCode"
   ]
  },
  {
   "cell_type": "code",
   "execution_count": 25,
   "id": "3f311500",
   "metadata": {},
   "outputs": [
    {
     "name": "stdout",
     "output_type": "stream",
     "text": [
      "Please, enter the number! 2119\n"
     ]
    },
    {
     "data": {
      "text/plain": [
       "'Value exists at index 221'"
      ]
     },
     "execution_count": 25,
     "metadata": {},
     "output_type": "execute_result"
    }
   ],
   "source": [
    "from math import *\n",
    "# Let's create the list of random numbers for the Jump Search algorithm \n",
    "import random \n",
    "random.seed(123)\n",
    "lst = [random.randint(1, 10000) for _ in range(1000)]\n",
    "lst = sorted(lst) # The list should be sorted\n",
    "number = int(input(\"Please, enter the number! \")) # The target value\n",
    "\n",
    "# Classic implementation of the Jump Search algorithm:\n",
    "# The major idea behind the Jump Search algorithm is that we are going to find the sought-after number through \n",
    "# steps - slices of the input array (so to speak, we have to 'jump' from one slice of numbers to another slice \n",
    "# of numbers). We need to inspect these slices while the target segment (where the number\n",
    "# is located) is not found. When the target segment is identified - the simple linear search is executed \n",
    "# within this segment/slice. Resultantly, we either find the sought-after number and return it or return \n",
    "# nothing (because the sought-after number doesn't exist within the segment at all).\n",
    "\n",
    "\n",
    "def jump_search(array, target): # The Jump Search function\n",
    "    length = len(array) # Let's determine the length of the input array\n",
    "    step = int(sqrt(length)) # This way we find the average 'jump step' for the Jump Search algorithm\n",
    "    prev = 0\n",
    "    # The following code envisages the search of the relevant/target slice, where the sought-after element can be located\n",
    "    while array[int(min(step, length) - 1)] < target:\n",
    "        prev = step \n",
    "        step += int(sqrt(length))\n",
    "        if prev >= length:\n",
    "            return \"No value!\"\n",
    "    # When the relevant slice/segment is determined - the Linear Search algorithm is executed\n",
    "    while array[prev] < target:\n",
    "        prev += 1\n",
    "        if prev == min(step, length):\n",
    "            return \"No value\"\n",
    "    # Finally, within the Linear Search algorithm there are two options - the element is found or not\n",
    "    if array[prev] == target:\n",
    "        return f\"Value exists at index {prev}\"\n",
    "    return \"No value!\"\n",
    "    \n",
    "jump_search(lst, number)"
   ]
  },
  {
   "cell_type": "markdown",
   "id": "09d23b11",
   "metadata": {},
   "source": [
    "### 153. Find Minimum in Rotated Sorted Array - LeetCode"
   ]
  },
  {
   "cell_type": "code",
   "execution_count": 26,
   "id": "1f748ccb",
   "metadata": {},
   "outputs": [
    {
     "data": {
      "text/plain": [
       "0"
      ]
     },
     "execution_count": 26,
     "metadata": {},
     "output_type": "execute_result"
    }
   ],
   "source": [
    "# Based on this algorithm let's solve the LeetCode search problem:\n",
    "\"\"\"\n",
    "Suppose an array of length n sorted in ascending order is rotated between 1 and n times. For example, \n",
    "the array nums = [0,1,2,4,5,6,7] might become:\n",
    "\n",
    "[4,5,6,7,0,1,2] if it was rotated 4 times.\n",
    "[0,1,2,4,5,6,7] if it was rotated 7 times.\n",
    "Notice that rotating an array [a[0], a[1], a[2], ..., a[n-1]] 1 time results in the array [a[n-1], \n",
    "a[0], a[1], a[2], ..., a[n-2]].\n",
    "Given the sorted rotated array nums of unique elements, return the minimum element of this array.\n",
    "You must write an algorithm that runs in O(log n) time.\n",
    "Example 1:\n",
    "\n",
    "Input: nums = [3,4,5,1,2]\n",
    "Output: 1\n",
    "Explanation: The original array was [1,2,3,4,5] rotated 3 times.\n",
    "Example 2:\n",
    "\n",
    "Input: nums = [4,5,6,7,0,1,2]\n",
    "Output: 0\n",
    "Explanation: The original array was [0,1,2,4,5,6,7] and it was rotated 4 times.\n",
    "Example 3:\n",
    "\n",
    "Input: nums = [11,13,15,17]\n",
    "Output: 11\n",
    "Explanation: The original array was [11,13,15,17] and it was rotated 4 times. \n",
    "\"\"\"\n",
    "\n",
    "from math import *\n",
    "# We are going to use the similar slices to check the first and the last element and decide whether \n",
    "# we need to 'jump' further or stay here to execute the Linear Search algorithm\n",
    "class Solution:\n",
    "    def findMin(self, nums: List[int]) -> int:\n",
    "        def jump_search(array): # The function with the Jump Search algorithm\n",
    "            length = len(array)\n",
    "            step = int(sqrt(length))\n",
    "            prev = 0\n",
    "            flag = 0\n",
    "            while step < length:\n",
    "                curSlice = array[prev:step + 1] \n",
    "                if curSlice[0] > curSlice[-1]: # If the first element > the last element of the current slice - \n",
    "                    # it means that we don't have the minimum number within this segment, so we 'jump' further\n",
    "                # Otherwise, it means that the slice is not in ascending order - so we have to execute the Linear \n",
    "                # Search algorithm here\n",
    "                    flag = 1\n",
    "                    break\n",
    "                else:\n",
    "                    prev = step\n",
    "                    step += int(sqrt(length))\n",
    "            if flag == 0:\n",
    "            # This way we inspect the difference between the previous element and the next element within the selected \n",
    "            # segment:\n",
    "            # The ascending order envisages that the previous element is always smaller than the next one, so we \n",
    "            # return the first discrepancy element (which is not larger than the previous one)\n",
    "                while prev < length - 1:\n",
    "                    if array[prev] > array[prev + 1]:\n",
    "                        return array[prev + 1]\n",
    "                    prev += 1\n",
    "            else:\n",
    "                i = 0\n",
    "                while i < len(curSlice) - 1:\n",
    "                    if curSlice[i] > curSlice[i + 1]:\n",
    "                        return curSlice[i + 1]\n",
    "                    i += 1\n",
    "\n",
    "        result = jump_search(nums)\n",
    "        # If the function returns None anyway - it means that we have the original array without rotations, and \n",
    "        # we have to return the first element\n",
    "        if result is None:\n",
    "            return nums[0]\n",
    "        return result # In other case, we return the identified minimum element\n",
    "    \n",
    "a = Solution()\n",
    "a.findMin([4,5,6,7,0,1,2])"
   ]
  }
 ],
 "metadata": {
  "kernelspec": {
   "display_name": "Python 3 (ipykernel)",
   "language": "python",
   "name": "python3"
  },
  "language_info": {
   "codemirror_mode": {
    "name": "ipython",
    "version": 3
   },
   "file_extension": ".py",
   "mimetype": "text/x-python",
   "name": "python",
   "nbconvert_exporter": "python",
   "pygments_lexer": "ipython3",
   "version": "3.9.7"
  }
 },
 "nbformat": 4,
 "nbformat_minor": 5
}
