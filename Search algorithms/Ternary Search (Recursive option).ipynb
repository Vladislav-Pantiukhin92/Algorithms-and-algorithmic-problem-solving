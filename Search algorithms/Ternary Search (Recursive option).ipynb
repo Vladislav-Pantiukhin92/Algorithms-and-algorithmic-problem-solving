{
 "cells": [
  {
   "cell_type": "markdown",
   "id": "6445d469",
   "metadata": {},
   "source": [
    "### Ternary Search \n",
    "### Lost number in number sequence - 7 kyu, Codewars"
   ]
  },
  {
   "cell_type": "code",
   "execution_count": 37,
   "id": "862bb0f5",
   "metadata": {},
   "outputs": [
    {
     "data": {
      "text/plain": [
       "5"
      ]
     },
     "execution_count": 37,
     "metadata": {},
     "output_type": "execute_result"
    }
   ],
   "source": [
    "\"\"\"\n",
    "An ordered sequence of numbers from 1 to N is given. One number might have deleted from it, \n",
    "then the remaining numbers were mixed. Find the number that was deleted.\n",
    "Example:\n",
    "\n",
    "The starting array sequence is [1,2,3,4,5,6,7,8,9]\n",
    "The mixed array with one deleted number is [3,2,4,6,7,8,1,9]\n",
    "Your function should return the int 5.\n",
    "If no number was deleted from the starting array, your function should return the int 0.\n",
    "\n",
    "Note: N may be 1 or less (in the latter case, the first array will be []).\n",
    "\"\"\"\n",
    "\n",
    "# It is easy to find out the deleted element through the implementation of search algorithms.\n",
    "# The major idea is that we are going to count numbers from 1 to N and pass on these numbers to the function \n",
    "# of the search algorithm. The algorithm will verify the existence of these numbers within the mixed array.\n",
    "# If the algorithm returns negative answer (that is, the number is not within the array) - we return this number \n",
    "# as a deleted one\n",
    "# In this case, for instance, let's utilize the Ternary Search algorithm (Recursive option).\n",
    "\n",
    "def find_deleted_number(arr, mixed_arr):\n",
    "    if not arr and not mixed_arr: # If both the first and the second arguments are empty - we return 0\n",
    "        return 0\n",
    "    elif not mixed_arr: # If the second argument is empty - we return the first element of the first argument\n",
    "        return arr[0]\n",
    "    # In view of the fact that the search algorithm is effective only if the input array is sorted, it is important, \n",
    "    # firstly, to sort the array\n",
    "    sort_arr = sorted(mixed_arr)\n",
    "    if sort_arr[0] != 1: # We can immediately deal with the first element as a deleted number\n",
    "        return 1\n",
    "    elif sort_arr[-1] < 0:\n",
    "        return []\n",
    "    # After that, it is necessary to inspect each number within the selected range on the subject of existence \n",
    "    # within the input mixed array. The Ternary Search algorithm will be used for that:\n",
    "    def ternary_search_recursive(array, target, low, high): # The function of the Ternary Search algorithm\n",
    "    # The work of the Ternary Search algorithm is similar to the work of the Binary Search (the major exception is \n",
    "    # that the array is split into three parts, not two parts)\n",
    "        if low > high:\n",
    "            return \"No!\"\n",
    "        else:\n",
    "            mid = (low + high) // 2\n",
    "            if array[mid] == target:\n",
    "                return \"Yes!\"\n",
    "            else:\n",
    "                if target > array[mid]:\n",
    "                # This is the recursive adjustment of the 'low' and 'high' parameters\n",
    "                    return ternary_search_recursive(array, target, mid + 1, high)\n",
    "                return ternary_search_recursive(array, target, low, mid - 1)\n",
    "    N = arr[-1]\n",
    "    i = 2\n",
    "    while i <= N:\n",
    "        result = ternary_search_recursive(sort_arr, i, 0, len(sort_arr) - 1)\n",
    "        if result == \"No!\":\n",
    "            return i # The number with \"No\" (meaning it is not within the array) is returned \n",
    "        i += 1\n",
    "    return 0 # If the function returned \"Yes\" each time, it means that all numbers are included within the input \n",
    "# mixed array, so the return result is 0\n",
    "\n",
    "find_deleted_number([1,2,3,4,5,6,7,8,9], [3,2,4,6,7,8,1,9])"
   ]
  }
 ],
 "metadata": {
  "kernelspec": {
   "display_name": "Python 3 (ipykernel)",
   "language": "python",
   "name": "python3"
  },
  "language_info": {
   "codemirror_mode": {
    "name": "ipython",
    "version": 3
   },
   "file_extension": ".py",
   "mimetype": "text/x-python",
   "name": "python",
   "nbconvert_exporter": "python",
   "pygments_lexer": "ipython3",
   "version": "3.9.7"
  }
 },
 "nbformat": 4,
 "nbformat_minor": 5
}
