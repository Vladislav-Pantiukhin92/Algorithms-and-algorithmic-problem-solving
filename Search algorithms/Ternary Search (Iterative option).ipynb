{
 "cells": [
  {
   "cell_type": "markdown",
   "id": "8f808ad2",
   "metadata": {},
   "source": [
    "### Ternary Search (Iterative option)\n",
    "### 34. Find First and Last Position of Element in Sorted Array - LeetCode"
   ]
  },
  {
   "cell_type": "code",
   "execution_count": 33,
   "id": "1eb81a27",
   "metadata": {},
   "outputs": [
    {
     "data": {
      "text/plain": [
       "[3, 4]"
      ]
     },
     "execution_count": 33,
     "metadata": {},
     "output_type": "execute_result"
    }
   ],
   "source": [
    "\"\"\"\n",
    "Given an array of integers nums sorted in non-decreasing order, find the starting and ending position \n",
    "of a given target value.\n",
    "If target is not found in the array, return [-1, -1].\n",
    "You must write an algorithm with O(log n) runtime complexity.\n",
    "Example 1:\n",
    "\n",
    "Input: nums = [5,7,7,8,8,10], target = 8\n",
    "Output: [3,4]\n",
    "Example 2:\n",
    "\n",
    "Input: nums = [5,7,7,8,8,10], target = 6\n",
    "Output: [-1,-1]\n",
    "Example 3:\n",
    "\n",
    "Input: nums = [], target = 0\n",
    "Output: [-1,-1]\n",
    "\"\"\"\n",
    "\n",
    "# Let's solve this problem through the Ternary Search algorithm\n",
    "# The Ternary Search algorithm is similar to the Binary Search algorithm, but the input array is divided \n",
    "# into three parts (not into two parts)\n",
    "class Solution:\n",
    "    def searchRange(self, nums: List[int], target: int) -> List[int]:\n",
    "        if not nums: # The case, when the input list is empty\n",
    "            return [-1, -1]\n",
    "        elif len(nums) == 1: # The case, when the input list contains only 1 element, and this 1 element is \n",
    "            # not a target number\n",
    "            if nums[0] != target:\n",
    "                return [-1, -1]\n",
    "            else: # The case, when the input list contains only 1 element, and this 1 element is a target number\n",
    "                return [0, 0]\n",
    "        def ternary_search(array, target): # The function of the Ternary Search algorithm\n",
    "            low = 0\n",
    "            high = len(array) - 1\n",
    "            while low <= high:\n",
    "                mid1 = low + (high - low) // 3 # The first middle index/partition \n",
    "                mid2 = high - (high - low) // 3 # The second middle index/partition\n",
    "                if array[mid1] == target: # The case, when the first middle index returns the target element\n",
    "                    return mid1\n",
    "                elif array[mid2] == target: # The case, when the second middle index returns the target element\n",
    "                    return mid2\n",
    "                else:\n",
    "                # If the target element hasn't been found yet - we remove two parts out of three segments\n",
    "                # Only the segment, which numerically suits the target element, will remain, so the \"while loop\"\n",
    "                # continues\n",
    "                    if array[mid2] > target > array[mid1]:\n",
    "                        low = mid1 + 1\n",
    "                        high = mid2 - 1\n",
    "                    elif target < array[mid1]:\n",
    "                        high = mid1 - 1\n",
    "                    else:\n",
    "                        low = mid2 + 1\n",
    "        index = ternary_search(nums, target)\n",
    "        if index is None: # It may be possible that the input array doesn't contain the target element\n",
    "            return [-1, -1]\n",
    "    # When the index is identified, we need to traverse back and forth to find the first and the last index of the \n",
    "    # target element (if duplicates exist within the input array)\n",
    "        final = []\n",
    "        i = index - 1\n",
    "        j = index + 1\n",
    "        while True:\n",
    "            if i >= 0 and nums[i] == target:\n",
    "                i -= 1\n",
    "            else:\n",
    "                break\n",
    "        final.append(i + 1)\n",
    "        while True:\n",
    "            if j < len(nums) and nums[j] == target:\n",
    "                j += 1\n",
    "            else:\n",
    "                break\n",
    "        final.append(j - 1)\n",
    "        return final # Finally, the list with the first and the last indices of the target number is returned\n",
    "    \n",
    "a = Solution()\n",
    "a.searchRange([5,7,7,8,8,10], 8)"
   ]
  }
 ],
 "metadata": {
  "kernelspec": {
   "display_name": "Python 3 (ipykernel)",
   "language": "python",
   "name": "python3"
  },
  "language_info": {
   "codemirror_mode": {
    "name": "ipython",
    "version": 3
   },
   "file_extension": ".py",
   "mimetype": "text/x-python",
   "name": "python",
   "nbconvert_exporter": "python",
   "pygments_lexer": "ipython3",
   "version": "3.9.7"
  }
 },
 "nbformat": 4,
 "nbformat_minor": 5
}
