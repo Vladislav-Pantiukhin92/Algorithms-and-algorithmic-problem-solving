{
 "cells": [
  {
   "cell_type": "markdown",
   "id": "a4fce58d",
   "metadata": {},
   "source": [
    "### Sieve of Eratosthenes\n",
    "### Check for prime numbers - 7 kyu, Codewars"
   ]
  },
  {
   "cell_type": "code",
   "execution_count": 119,
   "id": "0eb059a5",
   "metadata": {},
   "outputs": [
    {
     "data": {
      "text/plain": [
       "True"
      ]
     },
     "execution_count": 119,
     "metadata": {},
     "output_type": "execute_result"
    }
   ],
   "source": [
    "\"\"\"\n",
    "The function will take in a number and will return True if it is a prime number and False if it is not.\n",
    "A prime number is a natural number greater than 1 that has no positive divisors other than 1 and itself.\n",
    "Examples(input --> output)\n",
    "\n",
    "0 --> false\n",
    "1 --> false\n",
    "2 --> true\n",
    "11 --> true\n",
    "12 --> false\n",
    "\"\"\"\n",
    "\n",
    "# To solve the problem it can be convenient to use the algorithm \"Sieve of Eratosthenes\", aimed at finding \n",
    "# all prime numbers up to any number/element\n",
    "# So we take the input number and create the list of prime numbers up to the given 'n' threshold. When such \n",
    "# a list container is obtained - we just verify the existence of the input number within the array\n",
    "\n",
    "\n",
    "def is_prime(n):\n",
    "    array = [True] * (n + 1) # The 'filter' array, which is initially filled only with True values\n",
    "    primes = [] # The list container, which will store prime numbers \n",
    "    for i in range(2, n + 1): # The start point is 2, because 0 and 1 are not prime numbers\n",
    "        if array[i]: # The first number within the list container is 2\n",
    "            primes.append(i)\n",
    "            # The major 'filter' element is the nested loop, where we signify that some elements cannot be\n",
    "            # prime numbers, this is why within the 'filter' array we replace the True value with the False value\n",
    "            for j in range(i ** 2, n + 1, i): # For example, it can be signified that square numbers of another\n",
    "            # integers cannot be added to the list container of prime numbers. The same principle applies to the \n",
    "            # 'step' trajectory (all numbers within the corresponding 'step' trajectory are not among prime numbers as well)\n",
    "                array[j] = False\n",
    "    if not primes:\n",
    "        return False\n",
    "    return primes[-1] == n # As we executed the inclusive search of prime numbers - the last element of our \n",
    "# list container is the answer (so we return True if the last element equals to \"n\", otherwise we return False)\n",
    "\n",
    "is_prime(571)"
   ]
  }
 ],
 "metadata": {
  "kernelspec": {
   "display_name": "Python 3 (ipykernel)",
   "language": "python",
   "name": "python3"
  },
  "language_info": {
   "codemirror_mode": {
    "name": "ipython",
    "version": 3
   },
   "file_extension": ".py",
   "mimetype": "text/x-python",
   "name": "python",
   "nbconvert_exporter": "python",
   "pygments_lexer": "ipython3",
   "version": "3.9.7"
  }
 },
 "nbformat": 4,
 "nbformat_minor": 5
}
