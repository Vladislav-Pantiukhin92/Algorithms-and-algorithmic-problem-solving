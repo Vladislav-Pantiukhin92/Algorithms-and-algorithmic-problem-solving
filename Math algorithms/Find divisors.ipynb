{
 "cells": [
  {
   "cell_type": "markdown",
   "id": "309a2869",
   "metadata": {},
   "source": [
    "### Algorithm, aimed at finding divisors of the given number\n",
    "### Find the divisors! - 7 kyu, Codewars"
   ]
  },
  {
   "cell_type": "code",
   "execution_count": 3,
   "id": "21819ff4",
   "metadata": {},
   "outputs": [
    {
     "data": {
      "text/plain": [
       "[2, 3, 4, 6]"
      ]
     },
     "execution_count": 3,
     "metadata": {},
     "output_type": "execute_result"
    }
   ],
   "source": [
    "\"\"\"\n",
    "Create a function named divisors/Divisors that takes an integer n > 1 and returns an array with all of \n",
    "the integer's divisors(except for 1 and the number itself), from smallest to largest. If the number is \n",
    "prime return the string '(integer) is prime' (null in C#) (use Either String a in Haskell and \n",
    "Result<Vec<u32>, String> in Rust).\n",
    "\n",
    "Example:\n",
    "divisors(12); #should return [2,3,4,6]\n",
    "divisors(25); #should return [5]\n",
    "divisors(13); #should return \"13 is prime\"\n",
    "\"\"\"\n",
    "\n",
    "def divisors(integer):\n",
    "    end_number = integer // 2 # We need to determine the range of numbers, where divisors/factors can be located\n",
    "    final = [] # The list container will store divisors of the given input number\n",
    "    # The range of numbers is determined. Let's find all divisors through the 'for loop'\n",
    "    for i in range(2, end_number + 1): \n",
    "        if integer % i == 0: # If the divisor divides the given input number entirely, leaves no remainder - \n",
    "            # such a divisor is appended to the rear of the list container\n",
    "            final.append(i)\n",
    "    if not final: # If the list container doesn't have elements at all (excl. 1 and the number itself), the \n",
    "        # given input number is prime\n",
    "        return f\"{integer} is prime\"\n",
    "    return final # Alternatively, we return the list with factors\n",
    "\n",
    "divisors(12)"
   ]
  }
 ],
 "metadata": {
  "kernelspec": {
   "display_name": "Python 3 (ipykernel)",
   "language": "python",
   "name": "python3"
  },
  "language_info": {
   "codemirror_mode": {
    "name": "ipython",
    "version": 3
   },
   "file_extension": ".py",
   "mimetype": "text/x-python",
   "name": "python",
   "nbconvert_exporter": "python",
   "pygments_lexer": "ipython3",
   "version": "3.9.7"
  }
 },
 "nbformat": 4,
 "nbformat_minor": 5
}
