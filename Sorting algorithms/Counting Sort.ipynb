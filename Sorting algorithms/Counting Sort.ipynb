{
 "cells": [
  {
   "cell_type": "markdown",
   "id": "0540a382",
   "metadata": {},
   "source": [
    "### Counting Sort\n",
    "### Double Sort - 7 kyu, Codewars"
   ]
  },
  {
   "cell_type": "code",
   "execution_count": 58,
   "id": "6ec6369e",
   "metadata": {},
   "outputs": [
    {
     "data": {
      "text/plain": [
       "[46, 78, 574, '287', '3', '423', '69', 'Apple', 'Grape', 'Peach']"
      ]
     },
     "execution_count": 58,
     "metadata": {},
     "output_type": "execute_result"
    }
   ],
   "source": [
    "\"\"\"\n",
    "Simple enough this one - you will be given an array. The values in the array will either be numbers or \n",
    "strings, or a mix of both. You will not get an empty array, nor a sparse one.\n",
    "Your job is to return a single array that has first the numbers sorted in ascending order, followed by \n",
    "the strings sorted in alphabetic order. The values must maintain their original type.\n",
    "Note that numbers written as strings are strings and must be sorted with the other strings.\n",
    "\"\"\"\n",
    "\n",
    "def db_sort(arr):\n",
    "    if not arr: # If the input array is empty - we return an empty array as well\n",
    "        return []\n",
    "    # With the help of 'filter' function we split the input array strictly into two lists\n",
    "    integers = list(filter(lambda x: isinstance(x, int), arr)) # The first list with only integers\n",
    "    strings = sorted(list(filter(lambda y: isinstance(y, str), arr))) # The second list with only strings (including\n",
    "    # string numbers)\n",
    "    # Let's sort the list of integers through the Counting Sort algorithm for a change\n",
    "    # The Counting Sort algorithm is aimed at sorting only positive numbers. The algorithm doesn't work with \n",
    "    # negative numbers\n",
    "    def counting_sort(array): # The function with the Counting Sort algorithm\n",
    "        maxElement = max(array) # The first step is to find the maxElement within the input array\n",
    "        count_arr = [0] * (maxElement + 1) # The second step is to create an empty array (filled with 0s), the\n",
    "        # length of which is the maxElement + 1\n",
    "        for i in array: # The third step is to fill the new array with values from the original input array (element \n",
    "            # of the input array == index of the new initialized array)\n",
    "            count_arr[i] += 1\n",
    "        for i in range(1, len(count_arr)): # The next step is to transform the new array into the cumulative sum array\n",
    "            count_arr[i] += count_arr[i - 1]\n",
    "        output_arr = [0] * len(array) # Eventually, we need to return something. And for this purpose we have to initialize \n",
    "        # the new array, filled initially with 0s again. The length of the output array is the length of the original \n",
    "        # input array\n",
    "        # Let's fill the output array with values in sorted ascending order:\n",
    "        for i in array:\n",
    "            index = count_arr[i] - 1\n",
    "            output_arr[index] = i\n",
    "            count_arr[i] -= 1\n",
    "        return output_arr\n",
    "    integers = counting_sort(integers)\n",
    "    # Finally the concatenation of sorted integers and sorted strings\n",
    "    final = integers + strings\n",
    "    return final # The concatenated list with integers and strings is returned\n",
    "\n",
    "db_sort([\"Apple\",46,\"287\",574,\"Peach\",\"3\",\"69\",78,\"Grape\",\"423\"])"
   ]
  }
 ],
 "metadata": {
  "kernelspec": {
   "display_name": "Python 3 (ipykernel)",
   "language": "python",
   "name": "python3"
  },
  "language_info": {
   "codemirror_mode": {
    "name": "ipython",
    "version": 3
   },
   "file_extension": ".py",
   "mimetype": "text/x-python",
   "name": "python",
   "nbconvert_exporter": "python",
   "pygments_lexer": "ipython3",
   "version": "3.9.7"
  }
 },
 "nbformat": 4,
 "nbformat_minor": 5
}
