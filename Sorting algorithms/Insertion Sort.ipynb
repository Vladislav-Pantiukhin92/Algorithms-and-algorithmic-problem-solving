{
 "cells": [
  {
   "cell_type": "markdown",
   "id": "9431a0d8",
   "metadata": {},
   "source": [
    "### Insertion Sort\n",
    "### Sorted? yes? no? how? - 7 kyu, Codewars"
   ]
  },
  {
   "cell_type": "code",
   "execution_count": 1,
   "id": "7c32fdef",
   "metadata": {},
   "outputs": [
    {
     "data": {
      "text/plain": [
       "'yes, ascending'"
      ]
     },
     "execution_count": 1,
     "metadata": {},
     "output_type": "execute_result"
    }
   ],
   "source": [
    "\"\"\"\n",
    "Complete the method which accepts an array of integers, and returns one of the following:\n",
    "\"yes, ascending\" - if the numbers in the array are sorted in an ascending order\n",
    "\"yes, descending\" - if the numbers in the array are sorted in a descending order\n",
    "\"no\" - otherwise\n",
    "You can assume the array will always be valid, and there will always be one correct answer.\n",
    "\"\"\"\n",
    "\n",
    "# The solution includes the following operations:\n",
    "# We create two functions: the first function can sort the input array in ascending order\n",
    "# The second function can sort the input array in descending order\n",
    "# The input array is passed on to these functions. As a result of that, we obtain two sorted arrays\n",
    "# After that, we compare the input array with these sorted lists. If, during the comparison, no discrepancies are identified - \n",
    "# then, we return the corresponding answer - \"yes, ascending\" or \"yes, descending\".\n",
    "# If, during the comparison, the input array is not equal to both ascending and descending lists - we return \"no, \n",
    "# because no other option is appropriate as a return result\n",
    "\n",
    "def is_sorted_and_how(arr):\n",
    "    ascending = True\n",
    "    descending = True\n",
    "    my_arr = arr.copy()\n",
    "    # To sort the array (both in ascending and descending order) we can use the Insertion Sort algorithm:\n",
    "    # We are going to split the input array into two lists: the first list is sorted by default, because it \n",
    "    # contains only one element (index [0]), the second list contains all other elements and it is not sorted\n",
    "    # So the major principle of the Insertion Sort algorithm is to loop over elements of the second list and insert \n",
    "    # them in the relevant, proper location of the first (sorted) list:\n",
    "    def insertion_sort_asc(array): # The Insertion Sort function (ascending order)\n",
    "        for i in range(1, len(array)):\n",
    "            j = i\n",
    "            while j > 0 and array[j - 1] > array[j]:\n",
    "                array[j - 1], array[j] = array[j], array[j - 1]\n",
    "                j -= 1\n",
    "        return array \n",
    "    def insertion_sort_desc(array): # The Insertion Sort function (descending order)\n",
    "        for i in range(1, len(array)):\n",
    "            j = i \n",
    "            while j > 0 and array[j - 1] < array[j]:\n",
    "                array[j - 1], array[j] = array[j], array[j - 1]\n",
    "                j -= 1\n",
    "        return array\n",
    "    result = insertion_sort_asc(my_arr)\n",
    "    # The comparison of the input array and the array, sorted in ascending order\n",
    "    i = 0\n",
    "    j = 0\n",
    "    while i < len(arr):\n",
    "        if arr[i] != result[j]: # If some elements of two arrays are not equal - the input array is not sorted \n",
    "            # in ascending order\n",
    "            ascending = False\n",
    "            break\n",
    "        i += 1\n",
    "        j += 1\n",
    "    if ascending:\n",
    "        return \"yes, ascending\"\n",
    "    \n",
    "    result = insertion_sort_desc(my_arr)\n",
    "    # The comparison of the input array and the array, sorted in descending order\n",
    "    i = 0\n",
    "    j = 0\n",
    "    while i < len(arr):\n",
    "        if arr[i] != result[j]: # If some elements of two arrays are not equal - the input array is not sorted \n",
    "            # in descending order\n",
    "            descending = False\n",
    "            break\n",
    "        i += 1\n",
    "        j += 1\n",
    "    if descending:\n",
    "        return \"yes, descending\"\n",
    "    # If the input array is not sorted in ascending or descending order - we return the last remaining option - \"no\"\n",
    "    return \"no\"\n",
    "\n",
    "is_sorted_and_how([1, 2])"
   ]
  }
 ],
 "metadata": {
  "kernelspec": {
   "display_name": "Python 3 (ipykernel)",
   "language": "python",
   "name": "python3"
  },
  "language_info": {
   "codemirror_mode": {
    "name": "ipython",
    "version": 3
   },
   "file_extension": ".py",
   "mimetype": "text/x-python",
   "name": "python",
   "nbconvert_exporter": "python",
   "pygments_lexer": "ipython3",
   "version": "3.9.7"
  }
 },
 "nbformat": 4,
 "nbformat_minor": 5
}
