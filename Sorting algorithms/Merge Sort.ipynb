{
 "cells": [
  {
   "cell_type": "markdown",
   "id": "fad022ce",
   "metadata": {},
   "source": [
    "### Merge Sort\n",
    "### Smallest value of an array - 7 kyu, Codewars"
   ]
  },
  {
   "cell_type": "code",
   "execution_count": null,
   "id": "26134efa",
   "metadata": {},
   "outputs": [],
   "source": [
    "\"\"\"\n",
    "Write a function that can return the smallest value of an array or the index of that value. The function's \n",
    "2nd parameter will tell whether it should return the value or the index.\n",
    "Assume the first parameter will always be an array filled with at least 1 number and no duplicates. \n",
    "Assume the second parameter will be a string holding one of two values: 'value' and 'index'.\n",
    "min([1,2,3,4,5], 'value') // => 1\n",
    "min([1,2,3,4,5], 'index') // => 0\n",
    "\"\"\"\n",
    "\n",
    "# If the input array is sorted, then, it will be possible to find the minElement (the first element) and \n",
    "# return it directly or return its original index\n",
    "\n",
    "def find_smallest(numbers,to_return):\n",
    "    arr = numbers.copy() # Let's copy the input array. It is necessary to preserve the original array, where \n",
    "    # the original index of the minElement is remembered\n",
    "# Let's sort the input array of numbers through the Merge Sort algorithm\n",
    "# The Merge Sort algorithm:\n",
    "# The input array is divided into two parts - > these parts are recursively sorted - > two sorted arrays are merged\n",
    "# and the singly array is returned\n",
    "    def merge_sort(array): # \n",
    "        if len(array) < 2: # The termination case\n",
    "            return array \n",
    "        else:\n",
    "    # The input array is divided into two equal parts\n",
    "            middle = len(array) // 2\n",
    "            left = array[:middle] # The left part of the array\n",
    "            right = array[middle:] # The right part of the array\n",
    "            # The recursive further fragmentation\n",
    "            left = merge_sort(left)\n",
    "            right = merge_sort(right)\n",
    "            return merge(left, right) # Subsequently two sorted arrays are passed on to the another function, \n",
    "        # which will merge them into the single combined sorted array\n",
    "    def merge(array1, array2): # The function, which will merge two sorted arrays\n",
    "        i = 0\n",
    "        k = 0\n",
    "        final = [] # The list, which will store elements from two sorted arrays\n",
    "    # With the help of the 'while loop' each time we will store the minElement from two sorted arrays:\n",
    "        while i < len(array1) and k < len(array2):\n",
    "            if array1[i] > array2[k]:\n",
    "                final.append(array2[k])\n",
    "                k += 1\n",
    "            else:\n",
    "                final.append(array1[i])\n",
    "                i += 1\n",
    "        # The work of the 'while loop' came to an end because we achieved the end of a sorted array\n",
    "        # We don't know the exact sorted array, so it is important to execute two more 'while loops' to finish \n",
    "        # the second array\n",
    "        # It is obvious that one of the 'while loops' will be useless and empty\n",
    "        while i < len(array1):\n",
    "            final.append(array1[i])\n",
    "            i += 1\n",
    "        while k < len(array2):\n",
    "            final.append(k)\n",
    "            k += 1\n",
    "        return final # Finally, the sorted combined array is returned\n",
    "    \n",
    "    result = merge_sort(numbers)\n",
    "    if to_return == \"value\": # If we need to return the real value - we return the first element\n",
    "        return result[0]\n",
    "    # Otherwise, we return the index of the smallest element\n",
    "    return arr.index(result[0])\n",
    "\n",
    "find_smallest([1,2,3,4,5], \"value\")"
   ]
  }
 ],
 "metadata": {
  "kernelspec": {
   "display_name": "Python 3 (ipykernel)",
   "language": "python",
   "name": "python3"
  },
  "language_info": {
   "codemirror_mode": {
    "name": "ipython",
    "version": 3
   },
   "file_extension": ".py",
   "mimetype": "text/x-python",
   "name": "python",
   "nbconvert_exporter": "python",
   "pygments_lexer": "ipython3",
   "version": "3.9.7"
  }
 },
 "nbformat": 4,
 "nbformat_minor": 5
}
