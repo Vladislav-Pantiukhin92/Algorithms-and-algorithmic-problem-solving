{
 "cells": [
  {
   "cell_type": "markdown",
   "id": "75d58063",
   "metadata": {},
   "source": [
    "### Bubble Sort\n",
    "### Find Maximum and Minimum Values of a List - 8 kyu, Codewars"
   ]
  },
  {
   "cell_type": "code",
   "execution_count": 2,
   "id": "b4c209de",
   "metadata": {},
   "outputs": [
    {
     "data": {
      "text/plain": [
       "-134"
      ]
     },
     "execution_count": 2,
     "metadata": {},
     "output_type": "execute_result"
    }
   ],
   "source": [
    "\"\"\"\n",
    "Your task is to make two functions ( max and min, or maximum and minimum, etc., depending on the \n",
    "language ) that receive a list of integers as input, and return the largest and lowest number in that \n",
    "list, respectively.\n",
    "Examples (Input -> Output)\n",
    "* [4,6,2,1,9,63,-134,566]         -> max = 566, min = -134\n",
    "* [-52, 56, 30, 29, -54, 0, -110] -> min = -110, max = 56\n",
    "* [42, 54, 65, 87, 0]             -> min = 0, max = 87\n",
    "* [5]                             -> min = 5, max = 5\n",
    "Notes\n",
    "You may consider that there will not be any empty arrays/vectors.\n",
    "\"\"\"\n",
    "\n",
    "# Let's initialize the function, which will sort the input array; as a result of that, the minElement and \n",
    "# maxElement will be returned (the first element and the last element of the sorted array respectively)\n",
    "def sort_array(array):\n",
    "# To sort the array we can utilize the sorting algorithm - for this case - The Bubble Sort algorithm\n",
    "# It is the slowest sorting algorithm\n",
    "\n",
    "# The Bubble Sort function:\n",
    "# The overriding principle behind the algorithm is the comparison of adjacent elements as well as the potential \n",
    "# swapping process if the previous element > the next element within the array\n",
    "\n",
    "    for i in range(len(array)):\n",
    "        for j in range(len(array) - 1 - i):\n",
    "            if array[j] > array[j + 1]: # Thus, larger elements are moving right and smaller elements are \n",
    "            # moving left\n",
    "    # Largest elements are similar to air bubbles, which are coming to the surface (the right side of the array)\n",
    "                temp = array[j]\n",
    "                array[j] = array[j + 1]\n",
    "                array[j + 1] = temp \n",
    "    return array\n",
    "\n",
    "def minimum(arr): # The function, which returns the minElement within the input array\n",
    "    sort_res = sort_array(arr)\n",
    "    return sort_res[0] # The first element of the sorted array is the minElement\n",
    "\n",
    "def maximum(arr): # The function, which returns the maxElement within the input array\n",
    "    sort_res = sort_array(arr)\n",
    "    return sort_res[-1] # The last element of the sorted array is the maxElement\n",
    "\n",
    "minimum([4,6,2,1,9,63,-134,566])"
   ]
  },
  {
   "cell_type": "code",
   "execution_count": 3,
   "id": "1ba750f6",
   "metadata": {},
   "outputs": [
    {
     "data": {
      "text/plain": [
       "56"
      ]
     },
     "execution_count": 3,
     "metadata": {},
     "output_type": "execute_result"
    }
   ],
   "source": [
    "maximum([-52, 56, 30, 29, -54, 0, -110])"
   ]
  }
 ],
 "metadata": {
  "kernelspec": {
   "display_name": "Python 3 (ipykernel)",
   "language": "python",
   "name": "python3"
  },
  "language_info": {
   "codemirror_mode": {
    "name": "ipython",
    "version": 3
   },
   "file_extension": ".py",
   "mimetype": "text/x-python",
   "name": "python",
   "nbconvert_exporter": "python",
   "pygments_lexer": "ipython3",
   "version": "3.9.7"
  }
 },
 "nbformat": 4,
 "nbformat_minor": 5
}
