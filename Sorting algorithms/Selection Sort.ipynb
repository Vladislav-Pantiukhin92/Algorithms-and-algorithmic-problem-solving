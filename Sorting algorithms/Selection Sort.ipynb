{
 "cells": [
  {
   "cell_type": "markdown",
   "id": "0c2a3aa0",
   "metadata": {},
   "source": [
    "### Selection Sort\n",
    "### Sum of two lowest positive integers"
   ]
  },
  {
   "cell_type": "code",
   "execution_count": 2,
   "id": "35c39f8d",
   "metadata": {},
   "outputs": [
    {
     "data": {
      "text/plain": [
       "7"
      ]
     },
     "execution_count": 2,
     "metadata": {},
     "output_type": "execute_result"
    }
   ],
   "source": [
    "\"\"\"\n",
    "Create a function that returns the sum of the two lowest positive numbers given an array of minimum 4 \n",
    "positive integers. No floats or non-positive integers will be passed.\n",
    "For example, when an array is passed like [19, 5, 42, 2, 77], the output should be 7.\n",
    "[10, 343445353, 3453445, 3453545353453] should return 3453455.\n",
    "\"\"\"\n",
    "\n",
    "from operator import * # 'operator.add' will add two numbers together\n",
    "\n",
    "def sum_two_smallest_numbers(numbers):\n",
    "    # We need to sort the array in ascending order and return the sum of the first and the second element\n",
    "    # To do that it is feasible to utilize the Selection Sort algorithm\n",
    "    # The main idea behind the Selection Sort algorithm is to find the minElement (minIndex) within each iteration \n",
    "    # and put it at the beginning of the array:\n",
    "    def selection_sort(array): # The function, which will sort the input array through the Selection Sort algorithm\n",
    "        for i in range(len(array) - 1):\n",
    "            minIndex = i\n",
    "            for j in range(i + 1, len(array)):\n",
    "                if array[minIndex] > array[j]:\n",
    "                    minIndex = j\n",
    "            array[i], array[minIndex] = array[minIndex], array[i] # We find the minElement and place it at the \n",
    "            # beginning of the array (with the shift + 1)\n",
    "        return array \n",
    "    result = selection_sort(numbers)\n",
    "    # Now we have the array, sorted in ascending order. So the final result is the sum of the first and the second \n",
    "    # element - result[0] and result[1]\n",
    "    return add(result[0], result[1]) # The 'operator.add' will be used for that\n",
    "\n",
    "sum_two_smallest_numbers([19, 5, 42, 2, 77])"
   ]
  }
 ],
 "metadata": {
  "kernelspec": {
   "display_name": "Python 3 (ipykernel)",
   "language": "python",
   "name": "python3"
  },
  "language_info": {
   "codemirror_mode": {
    "name": "ipython",
    "version": 3
   },
   "file_extension": ".py",
   "mimetype": "text/x-python",
   "name": "python",
   "nbconvert_exporter": "python",
   "pygments_lexer": "ipython3",
   "version": "3.9.7"
  }
 },
 "nbformat": 4,
 "nbformat_minor": 5
}
