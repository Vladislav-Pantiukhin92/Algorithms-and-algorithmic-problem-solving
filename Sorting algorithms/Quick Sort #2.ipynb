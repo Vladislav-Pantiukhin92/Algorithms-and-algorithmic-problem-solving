{
 "cells": [
  {
   "cell_type": "markdown",
   "id": "1050aedd",
   "metadata": {},
   "source": [
    "### Quick Sort #2\n",
    "### Max-min arrays - 7 kyu, Codewars"
   ]
  },
  {
   "cell_type": "code",
   "execution_count": 2,
   "id": "e171ae5f",
   "metadata": {},
   "outputs": [
    {
     "data": {
      "text/plain": [
       "[15, 7, 12, 10, 11]"
      ]
     },
     "execution_count": 2,
     "metadata": {},
     "output_type": "execute_result"
    }
   ],
   "source": [
    "\"\"\"\n",
    "In this Kata, you will be given an array of unique elements, and your task is to rearrange the values so \n",
    "that the first max value is followed by the first minimum, followed by second max value then second min value, etc.\n",
    "For example:\n",
    "solve([15,11,10,7,12]) = [15,7,12,10,11]\n",
    "The first max is 15 and the first min is 7. The second max is 12 and the second min is 10 and so on.\n",
    "More examples in the test cases.\n",
    "Good luck!\n",
    "\"\"\"\n",
    "\n",
    "# To execute the aforementioned rearrangement of elements within the input array it is necessary, firstly, \n",
    "# to sort the input array in ascending order\n",
    "# Let's utilize the Quick Sort algorithm to sort the array in ascending order:\n",
    "\n",
    "def solve(arr):\n",
    "    def quick_sort(array): # The function with the Quick Sort algorithm \n",
    "        if len(array) < 2: # Surely, the array with 0 or 1 element doesn't need to be sorted, so we return the \n",
    "            # original array\n",
    "            return array \n",
    "        else:\n",
    "        # Otherwise, we select the pivot element - for example, the first element - [0] and create three lists:\n",
    "            pivot = array[0]\n",
    "            smaller = [i for i in array if i < pivot] # The first list with elements, which are smaller than the pivot element\n",
    "            equal = [i for i in array if i == pivot] # The second list with elements, which are equal to the pivot element\n",
    "            greater = [i for i in array if i > pivot] # The third list with elements, which are greater than the pivot element\n",
    "            # And the recursion operation with smaller and greater lists is being implemented while the \n",
    "            # termination case is not attained\n",
    "            return quick_sort(smaller) + equal + quick_sort(greater) \n",
    "    sorted_arr = quick_sort(arr)\n",
    "    # As we have the sorted array now, we will initialize two variables, with which we are going to iterate through \n",
    "    # the array. Two pointers are going to move towards each other. In the meantime, we add the maxElement and minElement\n",
    "    # by turn to the final list. Iteration will be underway while two pointers (their indices) are not equal\n",
    "    final = []\n",
    "    i = len(sorted_arr) - 1\n",
    "    j = 0\n",
    "    while i >= j:\n",
    "        final.append(sorted_arr[i])\n",
    "        i -= 1\n",
    "        if i < j:\n",
    "            return final\n",
    "        else:\n",
    "            final.append(sorted_arr[j])\n",
    "            j += 1\n",
    "    return final # The final list is returned\n",
    "\n",
    "solve([15,11,10,7,12])"
   ]
  }
 ],
 "metadata": {
  "kernelspec": {
   "display_name": "Python 3 (ipykernel)",
   "language": "python",
   "name": "python3"
  },
  "language_info": {
   "codemirror_mode": {
    "name": "ipython",
    "version": 3
   },
   "file_extension": ".py",
   "mimetype": "text/x-python",
   "name": "python",
   "nbconvert_exporter": "python",
   "pygments_lexer": "ipython3",
   "version": "3.9.7"
  }
 },
 "nbformat": 4,
 "nbformat_minor": 5
}
