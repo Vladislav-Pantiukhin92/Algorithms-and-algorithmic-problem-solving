{
 "cells": [
  {
   "cell_type": "markdown",
   "id": "81602903",
   "metadata": {},
   "source": [
    "### ShellSort\n",
    "### Largest Elements - 7 kyu, Codewars"
   ]
  },
  {
   "cell_type": "code",
   "execution_count": 118,
   "id": "78f0bbdd",
   "metadata": {},
   "outputs": [
    {
     "data": {
      "text/plain": [
       "[6, 7]"
      ]
     },
     "execution_count": 118,
     "metadata": {},
     "output_type": "execute_result"
    }
   ],
   "source": [
    "\"\"\"\n",
    "Write a program that outputs the top n elements from a list.\n",
    "Example:\n",
    "largest(2, [7,6,5,4,3,2,1])\n",
    "# => [6,7]\n",
    "\"\"\"\n",
    "\n",
    "# The idea behind the problem's solution is very simple: \n",
    "# - Initially, we sort the input array in ascending order. It can be done, for instance, manually without the \n",
    "# sorted() or lst.sort() methods - just a sorting algorithm. When the input array is sorted in ascending order - \n",
    "# we just return the last 'n'-th elements of this input array\n",
    "\n",
    "def largest(n, xs): # Let's utilize the ShellSort algorithm\n",
    "    def shell_sort(array): # The function, which determines the ShellSort algorithm \n",
    "# The ShellSort algorithm is a sophisticated, an improved option of the Insertion Sort\n",
    "# The comparison as well as the potential swapping process take place not between adjacent elements, but \n",
    "# between elements, located at a certain distance from each other (the gap) within the input array.\n",
    "        length = len(array)\n",
    "        gap = length // 2 \n",
    "        while gap > 0: # Within the 'while loop' the gap is being constantly reduced by //= 2\n",
    "        # When the gap equals to 1, the algorithm is totally similar to the Insertion Sort\n",
    "            for i in range(gap, len(array)):\n",
    "                j = i\n",
    "                while j >= gap and array[j - gap] > array[j]:\n",
    "                    array[j - gap], array[j] = array[j], array[j - gap]\n",
    "                    j -= gap\n",
    "            gap //= 2\n",
    "        return array\n",
    "    result = shell_sort(xs)\n",
    "    return result[-n:] # Finally, we return the last 'n'-th elements within the sorted array\n",
    "\n",
    "largest(2, [7,6,5,4,3,2,1])"
   ]
  }
 ],
 "metadata": {
  "kernelspec": {
   "display_name": "Python 3 (ipykernel)",
   "language": "python",
   "name": "python3"
  },
  "language_info": {
   "codemirror_mode": {
    "name": "ipython",
    "version": 3
   },
   "file_extension": ".py",
   "mimetype": "text/x-python",
   "name": "python",
   "nbconvert_exporter": "python",
   "pygments_lexer": "ipython3",
   "version": "3.9.7"
  }
 },
 "nbformat": 4,
 "nbformat_minor": 5
}
