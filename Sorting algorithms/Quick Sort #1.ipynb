{
 "cells": [
  {
   "cell_type": "markdown",
   "id": "ce5f2d6e",
   "metadata": {},
   "source": [
    "### Quick Sort #1\n",
    "### max diff - easy - 7 kyu, Codewars"
   ]
  },
  {
   "cell_type": "code",
   "execution_count": 1,
   "id": "c0c7f599",
   "metadata": {},
   "outputs": [
    {
     "data": {
      "text/plain": [
       "3"
      ]
     },
     "execution_count": 1,
     "metadata": {},
     "output_type": "execute_result"
    }
   ],
   "source": [
    "\"\"\"\n",
    "You must implement a function that returns the difference between the largest and the smallest value \n",
    "in a given list / array (lst) received as the parameter.\n",
    "lst contains integers, that means it may contain some negative numbers\n",
    "if lst is empty or contains a single element, return 0\n",
    "lst is not sorted\n",
    "[1, 2, 3, 4]   //  returns 3 because 4 -   1  == 3\n",
    "[1, 2, 3, -4]  //  returns 7 because 3 - (-4) == 7\n",
    "\"\"\"\n",
    "\n",
    "# It is very easy to figure out that the maxDifference is the subtraction result between the maxElement and \n",
    "# the minElement. It is possible to identify the minElement as well as the maxElement within the sorted array \n",
    "# (the first element and the last element respectively)\n",
    "\n",
    "# So, first of all, let's sort the input array through the Quick Sort #1\n",
    "\n",
    "from operator import * # In this case the 'operator.sub' will be used (to subtract one number from another one)\n",
    "\n",
    "def max_diff(lst):\n",
    "    if len(lst) < 2: # If the input list contains 0 or 1 element, the maxDifference doesn't make sense, so \n",
    "        # we return 0\n",
    "        return 0\n",
    "# The Quick Sort algorithm:\n",
    "    def find_partition(array, start, end): # The function, aimed at partitioning the array for the Quick Sort\n",
    "    # We are going to take the pivot element (at index [0]) and partition (sort) the array in such a way that \n",
    "    # all smaller (than the pivot element) numbers will be located to the left of the pivot element, \n",
    "    # and all greater (than the pivot element) and equal numbers will be located to the right of the pivot element\n",
    "        left = start + 1\n",
    "        right = end\n",
    "        while True:\n",
    "            while right >= left and array[start] > array[left]:\n",
    "                left += 1\n",
    "            while right >= left and array[start] <= array[right]:\n",
    "                right -= 1\n",
    "            if left > right:\n",
    "                break \n",
    "            else:\n",
    "                array[left], array[right] = array[right], array[left]\n",
    "        array[start], array[right] = array[right], array[start]\n",
    "        return right # Finally, when we determined the partition element, we return its index\n",
    "    def quick_sort(array, start, end): # The Quick Sort algorithm function \n",
    "        if start >= end:\n",
    "            return \n",
    "        else:\n",
    "            # Recursive solution of the Quick Sort\n",
    "            p = find_partition(array, start, end)\n",
    "            quick_sort(array, start, p - 1)\n",
    "            quick_sort(array, p + 1, end)\n",
    "        return array \n",
    "    final = quick_sort(lst, 0, len(lst) - 1) # Now we have the array, sorted in ascending order\n",
    "    smallest = final[0] # We can find the smallest element - the first element\n",
    "    greatest = final[-1] # We can find the largest element - the last element\n",
    "    difference = sub(greatest, smallest) # Let's find the difference \n",
    "    return difference # The difference is returned\n",
    "\n",
    "max_diff([1, 2, 3, 4])"
   ]
  }
 ],
 "metadata": {
  "kernelspec": {
   "display_name": "Python 3 (ipykernel)",
   "language": "python",
   "name": "python3"
  },
  "language_info": {
   "codemirror_mode": {
    "name": "ipython",
    "version": 3
   },
   "file_extension": ".py",
   "mimetype": "text/x-python",
   "name": "python",
   "nbconvert_exporter": "python",
   "pygments_lexer": "ipython3",
   "version": "3.9.7"
  }
 },
 "nbformat": 4,
 "nbformat_minor": 5
}
