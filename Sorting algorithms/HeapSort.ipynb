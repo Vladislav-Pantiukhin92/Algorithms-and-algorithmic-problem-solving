{
 "cells": [
  {
   "cell_type": "markdown",
   "id": "77cad3d6",
   "metadata": {},
   "source": [
    "### HeapSort\n",
    "### 912. Sort an Array - LeetCode"
   ]
  },
  {
   "cell_type": "code",
   "execution_count": 116,
   "id": "9080ab05",
   "metadata": {},
   "outputs": [
    {
     "data": {
      "text/plain": [
       "[0, 0, 1, 1, 2, 5]"
      ]
     },
     "execution_count": 116,
     "metadata": {},
     "output_type": "execute_result"
    }
   ],
   "source": [
    "\n",
    "class Solution:\n",
    "    def sortArray(self, nums):\n",
    "    # To implement the HeapSort algorithm, first of all, it is necessary to transform the input array (list of \n",
    "    # numbers) into the MaxHeap structure (the case, when all parent nodes are larger than their child nodes)\n",
    "    \n",
    "        def maxHeapify(array, n, i): # It is the function, which implements the MaxHeap structure\n",
    "            # The potential elements' swapping takes place if a parent node < a child node (right node or left node)\n",
    "            index = i\n",
    "            left = index * 2 + 1\n",
    "            right = index * 2 + 2\n",
    "            largest = index \n",
    "            if left < n and array[largest] < array[left]:\n",
    "                largest = left \n",
    "            if right < n and array[largest] < array[right]:\n",
    "                largest = right \n",
    "            if index != largest:\n",
    "                array[index], array[largest] = array[largest], array[index]\n",
    "                maxHeapify(array, n, largest)\n",
    "        for i in range(len(nums) - 1, -1, -1): # Through the 'for loop' we are going to take all elements (one \n",
    "            # by one) and place these numbers specifically in order of the MaxHeap structure\n",
    "            maxHeapify(nums, len(nums), i)\n",
    "        # The final operation is the HeapSort itself (the input parameter is the MaxHeap structure)\n",
    "        # The idea behind the HeapSort is that each time we take the first element (which is the largest number \n",
    "        # in the MaxHeap) and put it at the end of the list. After that the list is 'heapified' again and the operation \n",
    "        # is being repeated while the 'for loop' is underway\n",
    "        for j in range(len(nums) - 1, 0, -1):\n",
    "            nums[0], nums[j] = nums[j], nums[0]\n",
    "            maxHeapify(nums, j, 0)\n",
    "        return nums # The final sorted list is returned\n",
    "    \n",
    "a = Solution()\n",
    "a.sortArray([5,1,1,2,0,0])"
   ]
  }
 ],
 "metadata": {
  "kernelspec": {
   "display_name": "Python 3 (ipykernel)",
   "language": "python",
   "name": "python3"
  },
  "language_info": {
   "codemirror_mode": {
    "name": "ipython",
    "version": 3
   },
   "file_extension": ".py",
   "mimetype": "text/x-python",
   "name": "python",
   "nbconvert_exporter": "python",
   "pygments_lexer": "ipython3",
   "version": "3.9.7"
  }
 },
 "nbformat": 4,
 "nbformat_minor": 5
}
