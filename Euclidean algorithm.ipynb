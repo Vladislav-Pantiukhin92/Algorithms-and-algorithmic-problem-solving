{
 "cells": [
  {
   "cell_type": "markdown",
   "id": "14f19291",
   "metadata": {},
   "source": [
    "### Euclidean algorithm (Calculation of the Greatest Common Divisor).             \n",
    "### Check for prime numbers - 7 kyu, Codewars"
   ]
  },
  {
   "cell_type": "code",
   "execution_count": 98,
   "id": "1b348d51",
   "metadata": {},
   "outputs": [
    {
     "data": {
      "text/plain": [
       "40"
      ]
     },
     "execution_count": 98,
     "metadata": {},
     "output_type": "execute_result"
    }
   ],
   "source": [
    "\"\"\"\n",
    "Find the greatest common divisor of two positive integers. The integers can be large, so you need to find \n",
    "a clever solution.\n",
    "The inputs x and y are always greater or equal to 1, so the greatest common divisor will always be an \n",
    "integer that is also greater or equal to 1.\n",
    "\"\"\"\n",
    "\n",
    "# The three major solutions can be provided:\n",
    "\n",
    "# 1. The non-algorithmic solution - through the math module and gcd ('get common divisor' function)\n",
    "from math import *\n",
    "\n",
    "def mygcd(x, y):\n",
    "    return gcd(x, y)\n",
    "\n",
    "mygcd(120, 200)"
   ]
  },
  {
   "cell_type": "code",
   "execution_count": 100,
   "id": "96853ce4",
   "metadata": {},
   "outputs": [
    {
     "data": {
      "text/plain": [
       "40"
      ]
     },
     "execution_count": 100,
     "metadata": {},
     "output_type": "execute_result"
    }
   ],
   "source": [
    "# 2. The algorithmic solution - through the Euclidean algorithm (subtraction option)\n",
    "# To find the greatest common divisor the subtraction (the largest number - the smallest number) takes place\n",
    "def mygcd(x, y): \n",
    "    while x != y: # While two numbers are not equal we will continue to subtract the smaller number from the \n",
    "        # greater number\n",
    "        if x > y:\n",
    "            x -= y \n",
    "        else:\n",
    "            y -= x\n",
    "    return x # When two numbers are equal, it is quite obvious, that we can return any number as a GCD\n",
    "\n",
    "mygcd(120, 200)"
   ]
  },
  {
   "cell_type": "code",
   "execution_count": 101,
   "id": "8be52e8b",
   "metadata": {},
   "outputs": [
    {
     "data": {
      "text/plain": [
       "40"
      ]
     },
     "execution_count": 101,
     "metadata": {},
     "output_type": "execute_result"
    }
   ],
   "source": [
    "# 3. The algorithmic solution - through the Euclidean algorithm (modulo operation option)\n",
    "\n",
    "# The loop is underway while any number doesn't equal to 0 (The calculation is similar to the above-mentioned \n",
    "# subtraction option, but instead of \"-\" we utilize the modulo operator - \"%\").\n",
    "# After that, we should return the sum of two numbers (0 + another number)\n",
    "\n",
    "def mygcd(x, y):\n",
    "    while x != 0 and y != 0:\n",
    "        if x > y:\n",
    "            x %= y\n",
    "        else:\n",
    "            y %= x \n",
    "    return x + y \n",
    "\n",
    "mygcd(120, 200)"
   ]
  }
 ],
 "metadata": {
  "kernelspec": {
   "display_name": "Python 3 (ipykernel)",
   "language": "python",
   "name": "python3"
  },
  "language_info": {
   "codemirror_mode": {
    "name": "ipython",
    "version": 3
   },
   "file_extension": ".py",
   "mimetype": "text/x-python",
   "name": "python",
   "nbconvert_exporter": "python",
   "pygments_lexer": "ipython3",
   "version": "3.9.7"
  }
 },
 "nbformat": 4,
 "nbformat_minor": 5
}
