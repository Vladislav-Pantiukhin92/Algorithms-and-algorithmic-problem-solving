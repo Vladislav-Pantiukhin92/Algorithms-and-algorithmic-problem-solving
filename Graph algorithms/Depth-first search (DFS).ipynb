{
 "cells": [
  {
   "cell_type": "markdown",
   "id": "14417b70",
   "metadata": {},
   "source": [
    "### Depth-first search\n",
    "### 547. Number of Provinces - LeetCode"
   ]
  },
  {
   "cell_type": "code",
   "execution_count": 43,
   "id": "ce421abe",
   "metadata": {},
   "outputs": [
    {
     "data": {
      "text/plain": [
       "3"
      ]
     },
     "execution_count": 43,
     "metadata": {},
     "output_type": "execute_result"
    }
   ],
   "source": [
    "\"\"\"\n",
    "There are n cities. Some of them are connected, while some are not. If city a is connected directly with \n",
    "city b, and city b is connected directly with city c, then city a is connected indirectly with city c.\n",
    "A province is a group of directly or indirectly connected cities and no other cities outside of the group.\n",
    "You are given an n x n matrix isConnected where isConnected[i][j] = 1 if the ith city and the jth city \n",
    "are directly connected, and isConnected[i][j] = 0 otherwise.\n",
    "Return the total number of provinces.\n",
    "Example 1:\n",
    "\n",
    "Input: isConnected = [[1,1,0],[1,1,0],[0,0,1]]\n",
    "Output: 2\n",
    "Example 2:\n",
    "\n",
    "Input: isConnected = [[1,0,0],[0,1,0],[0,0,1]]\n",
    "Output: 3\n",
    "\"\"\"\n",
    "\n",
    "# Through the use of the graph traversal algorithm (in this case, the Depth-first search algorithm will be \n",
    "# utilized) we can determine the number of connected nodes (aka provinces). While traversing the traversed node\n",
    "# will be erased from the set of existing nodes\n",
    "\n",
    "class Solution:\n",
    "    def findCircleNum(self, isConnected: List[List[int]]) -> int:\n",
    "        length = len(isConnected) # Length of the list\n",
    "        provinces = 0 # The initial number of provinces\n",
    "        # Knowing the length, we generate the set of all nodes:\n",
    "        all_nodes = set(i for i in range(1, length + 1))\n",
    "        graph_dict = {node: [] for node in all_nodes} # Dictionary comprehension\n",
    "        # The graph representation (adjacency list) is created:\n",
    "        for i, j in enumerate(isConnected, 1):\n",
    "            for k, v in enumerate(j, 1):\n",
    "                if i != k and v == 1:\n",
    "                    graph_dict[i].append(k)\n",
    "        # Below is the Depth-first search (DFS) algorithm, using the recursive approach:\n",
    "        def DFS(graph, source, visited=[]): # The list 'visited' will contain all traversed vertices\n",
    "            if source not in visited: # If the current node is not within the 'visited' list, it is added there\n",
    "                visited.append(source)\n",
    "                for i in graph[source]: # After that through the 'for loop' we iterate over the list of adjacent \n",
    "                    # vertices. Each adjacent vertex will be another source node:\n",
    "                    DFS(graph, i, visited)\n",
    "            return visited # The list with traversed vertices is returned\n",
    "        while all_nodes: # While the set structure contains nodes we will use the DFS algorithm:\n",
    "            curNode = list(all_nodes)[0]\n",
    "            nodes_visited = DFS(graph_dict, curNode)\n",
    "            provinces += 1 # Each time the number of provinces is increased by 1\n",
    "            # As a result of the DFS algorithm, the traversed nodes should be removed from the set structure:\n",
    "            for i in nodes_visited: \n",
    "                all_nodes.discard(i)\n",
    "        return provinces # The final number of provinces is returned\n",
    "    \n",
    "a = Solution()\n",
    "a.findCircleNum([[1,0,0],[0,1,0],[0,0,1]])"
   ]
  }
 ],
 "metadata": {
  "kernelspec": {
   "display_name": "Python 3 (ipykernel)",
   "language": "python",
   "name": "python3"
  },
  "language_info": {
   "codemirror_mode": {
    "name": "ipython",
    "version": 3
   },
   "file_extension": ".py",
   "mimetype": "text/x-python",
   "name": "python",
   "nbconvert_exporter": "python",
   "pygments_lexer": "ipython3",
   "version": "3.9.7"
  }
 },
 "nbformat": 4,
 "nbformat_minor": 5
}
