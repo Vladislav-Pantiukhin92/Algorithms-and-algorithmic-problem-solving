{
 "cells": [
  {
   "cell_type": "markdown",
   "id": "14417b70",
   "metadata": {},
   "source": [
    "### Finding all paths\n",
    "### 797. All Paths From Source to Target - LeetCode"
   ]
  },
  {
   "cell_type": "code",
   "execution_count": 41,
   "id": "8f57a3d2",
   "metadata": {},
   "outputs": [
    {
     "data": {
      "text/plain": [
       "[[0, 4], [0, 3, 4], [0, 1, 3, 4], [0, 1, 2, 3, 4], [0, 1, 4]]"
      ]
     },
     "execution_count": 41,
     "metadata": {},
     "output_type": "execute_result"
    }
   ],
   "source": [
    "\"\"\"\n",
    "Given a directed acyclic graph (DAG) of n nodes labeled from 0 to n - 1, find all possible paths from \n",
    "node 0 to node n - 1 and return them in any order.\n",
    "The graph is given as follows: graph[i] is a list of all nodes you can visit from node i (i.e., there \n",
    "is a directed edge from node i to node graph[i][j]).\n",
    "Example 1:\n",
    "\n",
    "Input: graph = [[1,2],[3],[3],[]]\n",
    "Output: [[0,1,3],[0,2,3]]\n",
    "Explanation: There are two paths: 0 -> 1 -> 3 and 0 -> 2 -> 3.\n",
    "Example 2:\n",
    "\n",
    "Input: graph = [[4,3,1],[3,2,4],[3],[4],[]]\n",
    "Output: [[0,4],[0,3,4],[0,1,3,4],[0,1,2,3,4],[0,1,4]]\n",
    "\"\"\"\n",
    "# The solution of the problem will be split into the two major steps: the first step is to create the convenient\n",
    "# graph representation - the adjacency list. The second step is to use the adjacency list within the pathfinding \n",
    "# algorithm (the algorithm, which returns all the source-target paths within the graph):\n",
    "\n",
    "class Solution:\n",
    "    def allPathsSourceTarget(self, graph: List[List[int]]) -> List[List[int]]:\n",
    "        number_of_nodes = len(graph) # The number of nodes is found\n",
    "        # Let's create the adjacency list (represented as a dictionary), where separate vertices are the \n",
    "        # dictionary keys and lists with adjacent vertices are the dictionary values:\n",
    "        graph_dict = {i: [] for i in range(0, number_of_nodes)} # Dictionary comprehension\n",
    "        # Through the 'enumerate' function the lists with adjacent vertices are added:\n",
    "        for i, j in enumerate(graph):\n",
    "            for k in j:\n",
    "                graph_dict[i].append(k)\n",
    "        # Below is the pathfinding algorithm, which uses the recursive approach:   \n",
    "        def find_paths(G, start, end, path=[]): # The path will contain all the transit nodes between the source\n",
    "            # and the target\n",
    "            path = path + [start] # The start node is added to the path list\n",
    "            if start == end: # If start == end, we found the path, which is to be returned\n",
    "                return [path]\n",
    "            elif start not in G: # If the element is not within the dictionary, the path doesn't exist, so we return\n",
    "                # an empty list\n",
    "                return []\n",
    "            else:\n",
    "            # Otherwise, we loop over the adjacent nodes/vertices and use the recursion to change the start node for \n",
    "            # further movement towards the target node:\n",
    "                paths = [] # It is the list, which will contain all path lists. It is finally to be returned\n",
    "                for i in G[start]:\n",
    "                    if i not in path:\n",
    "                        new_path = find_paths(G, i, end, path) # Recursive approach\n",
    "                        for p in new_path:\n",
    "                            paths.append(p)\n",
    "            return paths # The list with all paths is returned\n",
    "        result = find_paths(graph_dict, 0, number_of_nodes - 1)\n",
    "        return result\n",
    "    \n",
    "a = Solution()\n",
    "a.allPathsSourceTarget([[4,3,1],[3,2,4],[3],[4],[]])"
   ]
  }
 ],
 "metadata": {
  "kernelspec": {
   "display_name": "Python 3 (ipykernel)",
   "language": "python",
   "name": "python3"
  },
  "language_info": {
   "codemirror_mode": {
    "name": "ipython",
    "version": 3
   },
   "file_extension": ".py",
   "mimetype": "text/x-python",
   "name": "python",
   "nbconvert_exporter": "python",
   "pygments_lexer": "ipython3",
   "version": "3.9.7"
  }
 },
 "nbformat": 4,
 "nbformat_minor": 5
}
