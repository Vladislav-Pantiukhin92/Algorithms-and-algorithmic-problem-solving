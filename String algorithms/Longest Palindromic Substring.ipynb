{
 "cells": [
  {
   "cell_type": "markdown",
   "id": "2fb2797f",
   "metadata": {},
   "source": [
    "### Longest Palindromic Substring\n",
    "### Numerical Palindrome #1.5 - 6 kyu, Codewars"
   ]
  },
  {
   "cell_type": "code",
   "execution_count": 5,
   "id": "88e860a4",
   "metadata": {},
   "outputs": [
    {
     "data": {
      "text/plain": [
       "[11, 22, 33, 44]"
      ]
     },
     "execution_count": 5,
     "metadata": {},
     "output_type": "execute_result"
    }
   ],
   "source": [
    "\"\"\"\n",
    "A palindrome is a word, phrase, number, or other sequence of characters which reads the same backward as \n",
    "forward. Examples of numerical palindromes are:\n",
    "2332\n",
    "110011\n",
    "54322345\n",
    "\n",
    "You'll be given 2 numbers as arguments: (num,s). Write a function which returns an array of s number of \n",
    "numerical palindromes that come after num. If num is a palindrome itself, it should be included in the count.\n",
    "Return \"Not valid\" instead if any one of the inputs is not an integer or is less than 0.\n",
    "For this kata, single digit numbers will NOT be considered numerical palindromes.\n",
    "\n",
    "palindrome(6,4) => [11,22,33,44]\n",
    "palindrome(59,3) => [66,77,88]\n",
    "palindrome(101,2) => [101,111]\n",
    "palindrome(\"15651\",5) => \"Not valid\" \n",
    "palindrome(1221,\"8\") => \"Not valid\" \n",
    "\"\"\"\n",
    "\n",
    "# To find the necessary amount of palindromes among numbers it is possible to use the specific algorithm,\n",
    "# aimed at calculating the longest palindromic substring (if the longest palindromic substring == the string itself), \n",
    "# then, the string is a palindrome\n",
    "\n",
    "def palindrome(num,s):\n",
    "    if not isinstance(num, int) or not isinstance(s, int):\n",
    "        return \"Not valid\"\n",
    "    if num < 0 or s < 0:\n",
    "        return \"Not valid\"\n",
    "    def longest_palindromic_substring(string): # The function, aimed at calculating the longest palindromic \n",
    "        # substring\n",
    "        maxLength = 0 # The initial length is 0\n",
    "        maxStr = \"\" # The variable, which will store the current longest palindromic substring\n",
    "        # It is the 'for loop', which calculates the longest odd-numbered palindromic substring\n",
    "        for i in range(len(string)):\n",
    "        # We are going to initialize two pointers, which will move in opposite directions, while their string \n",
    "        # values are equal. This way we accumulate the odd-numbered longest palindromic substring\n",
    "            l, r = i, i \n",
    "            while l >= 0 and r < len(string) and string[l] == string[r]:\n",
    "                if (r - l) + 1 > maxLength:\n",
    "            # While pointers are moving in opposite directions, we update the maxLength as well as the longest \n",
    "            # palindromic substring\n",
    "                    maxLength = (r - l) + 1\n",
    "                    maxStr = string[l:r + 1]\n",
    "                l -= 1\n",
    "                r += 1\n",
    "        # It is the 'for loop', which calculates the longest even-numbered palindromic substring  \n",
    "        for i in range(len(string)):\n",
    "        # We are going to initialize two pointers, which will move in opposite directions, while their string \n",
    "        # values are equal. This way we accumulate the even-numbered longest palindromic substring\n",
    "            l, r = i, i + 1 \n",
    "            while l >= 0 and r < len(string) and string[l] == string[r]:\n",
    "                if (r - l) + 1 > maxLength:\n",
    "                # While pointers are moving in opposite directions, we update the maxLength as well as the longest \n",
    "                # palindromic substring\n",
    "                    maxLength = (r - l) + 1\n",
    "                    maxStr = string[l:r + 1]\n",
    "                l -= 1\n",
    "                r += 1\n",
    "        # So now we possess the longest palindromic substring. As we need to answer the specific question, \n",
    "        # whether the entire input string is a palindrome, the return result (True of False) will depend upon \n",
    "        # the length of the longest palindromic substring (it should equal to the length of the input string itself)\n",
    "        if maxLength == len(string):\n",
    "            return True\n",
    "        return False\n",
    "    \n",
    "    final = []\n",
    "    while s > 0:\n",
    "        newStr = str(num)\n",
    "        if len(newStr) > 1:\n",
    "        # It is necessary to verify whether the number (in the string form) is a palindrome or not\n",
    "        # The verification is implemented through the above-mentioned function:\n",
    "            result = longest_palindromic_substring(newStr)\n",
    "            # If result returns True, the integer palindrome is stored within the final list, the 's' is reduced \n",
    "            # by 1 and the 'num' is increased by 1 respectively\n",
    "            if result:\n",
    "                final.append(num)\n",
    "                s -= 1\n",
    "        num += 1\n",
    "    return final\n",
    "\n",
    "palindrome(6,4)"
   ]
  }
 ],
 "metadata": {
  "kernelspec": {
   "display_name": "Python 3 (ipykernel)",
   "language": "python",
   "name": "python3"
  },
  "language_info": {
   "codemirror_mode": {
    "name": "ipython",
    "version": 3
   },
   "file_extension": ".py",
   "mimetype": "text/x-python",
   "name": "python",
   "nbconvert_exporter": "python",
   "pygments_lexer": "ipython3",
   "version": "3.9.7"
  }
 },
 "nbformat": 4,
 "nbformat_minor": 5
}
